{
 "cells": [
  {
   "cell_type": "markdown",
   "metadata": {
    "id": "ss9WR_zbQELO"
   },
   "source": [
    "# Практическое задание 3\n",
    "\n",
    "# Named Entity Recognition"
   ]
  },
  {
   "cell_type": "markdown",
   "metadata": {
    "id": "sB3vM2GfQELQ"
   },
   "source": [
    "## Введение\n",
    "\n",
    "### Постановка задачи\n",
    "\n",
    "В этом задании вы будете решать задачу извлечения именованных сущностей (Named Entity Recognition) - одну из самых распространенных в NLP наряду с задачей текстовой классификации.\n",
    "\n",
    "Данная задача заключается в том, что нужно классифицировать каждое слово / токен на предмет того, является ли оно частью именованной сущности (сущность может состоять из нескольких слов / токенов) или нет.\n",
    "\n",
    "Например, мы хотим извлечь имена и названия организаций. Тогда для текста\n",
    "\n",
    "    Yan    Goodfellow  works  for  Google  Brain\n",
    "\n",
    "модель должна извлечь следующую последовательность:\n",
    "\n",
    "    B-PER  I-PER       O      O    B-ORG   I-ORG\n",
    "\n",
    "где префиксы *B-* и *I-* означают начало и конец именованной сущности, *O* означает слово без тега. Такая префиксная система (*BIO*-разметка) введена, чтобы различать последовательные именованные сущности одного типа.\n",
    "Существуют и другие типы разметок, например *BILUO*, но в рамках данного практического задания сфокусируемся имеено на *BIO*.\n",
    "\n",
    "Решать NER задачу мы будем на датасете CoNLL-2003 с использованием рекуррентных сетей и моделей на базе архитектуры Transformer.\n",
    "\n",
    "### Библиотеки\n",
    "\n",
    "Основные библиотеки:\n",
    " - [PyTorch](https://pytorch.org/)\n",
    " - [Transformers](https://github.com/huggingface/transformers)\n",
    " \n",
    "### Данные\n",
    "\n",
    "Данные лежат в архиве, который состоит из:\n",
    "\n",
    "- *train.tsv* - обучающая выборка. В каждой строке записаны: <слово / токен>, <тэг слова / токена>\n",
    "\n",
    "- *valid.tsv* - валидационная выборка, которую можно использовать для подбора гиперпарамеров и замеров качества. Имеет идентичную с train.tsv структуру.\n",
    "\n",
    "- *test.tsv* - тестовая выборка, по которой оценивается итоговое качество. Имеет идентичную с train.tsv структуру.\n",
    "\n",
    "Скачать данные можно здесь: [ссылка](https://github.com/dayyass/msu_task_3_ner)"
   ]
  },
  {
   "cell_type": "code",
   "execution_count": 18,
   "metadata": {
    "execution": {
     "iopub.execute_input": "2022-11-21T10:58:51.123317Z",
     "iopub.status.busy": "2022-11-21T10:58:51.122953Z",
     "iopub.status.idle": "2022-11-21T10:58:51.127524Z",
     "shell.execute_reply": "2022-11-21T10:58:51.126531Z",
     "shell.execute_reply.started": "2022-11-21T10:58:51.123285Z"
    },
    "id": "S5BCB1EfQan1"
   },
   "outputs": [],
   "source": [
    "# !pip install numpy==1.21.6 scikit-learn==1.0.2 tensorboard==2.9.0 torch==1.12.1 tqdm==4.64.0 transformers==4.21.1"
   ]
  },
  {
   "cell_type": "code",
   "execution_count": 19,
   "metadata": {
    "execution": {
     "iopub.execute_input": "2022-11-21T10:58:51.156592Z",
     "iopub.status.busy": "2022-11-21T10:58:51.155818Z",
     "iopub.status.idle": "2022-11-21T10:58:51.161941Z",
     "shell.execute_reply": "2022-11-21T10:58:51.160921Z",
     "shell.execute_reply.started": "2022-11-21T10:58:51.156554Z"
    },
    "id": "Thidpb9qQELS"
   },
   "outputs": [],
   "source": [
    "import random\n",
    "from collections import Counter, defaultdict, namedtuple\n",
    "from typing import Tuple, List, Dict, Any\n",
    "\n",
    "import torch\n",
    "import numpy as np\n",
    "\n",
    "from tqdm import tqdm, trange"
   ]
  },
  {
   "cell_type": "markdown",
   "metadata": {
    "id": "AiDlmbY2QELT"
   },
   "source": [
    "Зафиксируем seed для воспроизводимости результатов (желательно делать **всегда**!):"
   ]
  },
  {
   "cell_type": "code",
   "execution_count": 20,
   "metadata": {
    "execution": {
     "iopub.execute_input": "2022-11-21T10:58:51.194062Z",
     "iopub.status.busy": "2022-11-21T10:58:51.193265Z",
     "iopub.status.idle": "2022-11-21T10:58:51.201025Z",
     "shell.execute_reply": "2022-11-21T10:58:51.200146Z",
     "shell.execute_reply.started": "2022-11-21T10:58:51.194028Z"
    },
    "id": "yt3ISg3aQELU"
   },
   "outputs": [],
   "source": [
    "def set_global_seed(seed: int) -> None:\n",
    "    \"\"\"\n",
    "    Set global seed for reproducibility.\n",
    "    \"\"\"\n",
    "\n",
    "    random.seed(seed)\n",
    "    np.random.seed(seed)\n",
    "    torch.manual_seed(seed)\n",
    "    torch.cuda.manual_seed_all(seed)\n",
    "    torch.backends.cudnn.benchmark = False\n",
    "    torch.backends.cudnn.deterministic = True\n",
    "\n",
    "\n",
    "set_global_seed(42)"
   ]
  },
  {
   "cell_type": "markdown",
   "metadata": {
    "id": "AhIg0ZBzQELV"
   },
   "source": [
    "Проинициализируем device (CPU / GPU) на котором будем работать (желательно **GPU**):"
   ]
  },
  {
   "cell_type": "code",
   "execution_count": 21,
   "metadata": {
    "execution": {
     "iopub.execute_input": "2022-11-21T10:58:51.233749Z",
     "iopub.status.busy": "2022-11-21T10:58:51.233462Z",
     "iopub.status.idle": "2022-11-21T10:58:51.239747Z",
     "shell.execute_reply": "2022-11-21T10:58:51.238780Z",
     "shell.execute_reply.started": "2022-11-21T10:58:51.233726Z"
    },
    "id": "rboLOv95QELV"
   },
   "outputs": [
    {
     "data": {
      "text/plain": [
       "'cuda'"
      ]
     },
     "execution_count": 21,
     "metadata": {},
     "output_type": "execute_result"
    }
   ],
   "source": [
    "device = \"cuda\" if torch.cuda.is_available() else \"cpu\"\n",
    "device"
   ]
  },
  {
   "cell_type": "markdown",
   "metadata": {
    "id": "UW16ryFIQELW"
   },
   "source": [
    "Здесь и далее проинициализируем *tensorboard* для логгирования метрики в процессе обучения:"
   ]
  },
  {
   "cell_type": "code",
   "execution_count": 22,
   "metadata": {
    "execution": {
     "iopub.execute_input": "2022-11-21T10:58:51.277154Z",
     "iopub.status.busy": "2022-11-21T10:58:51.276397Z",
     "iopub.status.idle": "2022-11-21T10:58:51.290172Z",
     "shell.execute_reply": "2022-11-21T10:58:51.288961Z",
     "shell.execute_reply.started": "2022-11-21T10:58:51.277120Z"
    },
    "id": "6O7Y8hReTODp"
   },
   "outputs": [
    {
     "name": "stdout",
     "output_type": "stream",
     "text": [
      "The tensorboard extension is already loaded. To reload it, use:\n",
      "  %reload_ext tensorboard\n"
     ]
    },
    {
     "data": {
      "text/plain": [
       "Reusing TensorBoard on port 6006 (pid 74), started 0:00:44 ago. (Use '!kill 74' to kill it.)"
      ]
     },
     "metadata": {},
     "output_type": "display_data"
    },
    {
     "data": {
      "text/html": [
       "\n",
       "      <iframe id=\"tensorboard-frame-1c80317fa3b1799d\" width=\"100%\" height=\"800\" frameborder=\"0\">\n",
       "      </iframe>\n",
       "      <script>\n",
       "        (function() {\n",
       "          const frame = document.getElementById(\"tensorboard-frame-1c80317fa3b1799d\");\n",
       "          const url = new URL(\"/\", window.location);\n",
       "          const port = 6006;\n",
       "          if (port) {\n",
       "            url.port = port;\n",
       "          }\n",
       "          frame.src = url;\n",
       "        })();\n",
       "      </script>\n",
       "    "
      ],
      "text/plain": [
       "<IPython.core.display.HTML object>"
      ]
     },
     "metadata": {},
     "output_type": "display_data"
    }
   ],
   "source": [
    "%load_ext tensorboard\n",
    "%tensorboard --logdir logs"
   ]
  },
  {
   "cell_type": "markdown",
   "metadata": {
    "id": "4k3Nhd3IQELY"
   },
   "source": [
    "## Часть 1. Подготовка данных (4 балла)"
   ]
  },
  {
   "cell_type": "markdown",
   "metadata": {
    "id": "4qYjOMuPQELY"
   },
   "source": [
    "Первым делом нам нужно считать данные. Давайте напишем функцию, которая на вход принимает путь до одного из conll-2003 файла и возвращает два списка:\n",
    "- список списков слов / токенов (и соответствующий ему)\n",
    "- список списков тегов\n",
    "\n",
    "P.S. Сделаем данную функцию более гибкой, подавая на вход еще булеву переменную, считываем ли мы данные в *lowercase* или нет.\n",
    "\n",
    "**Задание. Реализуйте функцию read_conll2003.** **<font color='red'>(1 балл)</font>**"
   ]
  },
  {
   "cell_type": "code",
   "execution_count": 23,
   "metadata": {
    "execution": {
     "iopub.execute_input": "2022-11-21T10:58:51.316405Z",
     "iopub.status.busy": "2022-11-21T10:58:51.314588Z",
     "iopub.status.idle": "2022-11-21T10:58:51.323356Z",
     "shell.execute_reply": "2022-11-21T10:58:51.322310Z",
     "shell.execute_reply.started": "2022-11-21T10:58:51.316372Z"
    },
    "id": "wQdCfX2OQELZ"
   },
   "outputs": [],
   "source": [
    "import csv\n",
    "def read_conll2003(\n",
    "    path: str,\n",
    "    lower: bool = True,\n",
    ") -> Tuple[List[List[str]], List[List[str]]]:\n",
    "    \"\"\"\n",
    "    Prepare data in CoNNL like format.\n",
    "    \"\"\"\n",
    "\n",
    "    token_seq = []\n",
    "    label_seq = []\n",
    "    \n",
    "    # YOUR CODE HERE\n",
    "    with open(path, \"r\") as path_file:\n",
    "        lines = csv.reader(path_file, delimiter='\\t', quotechar=None)\n",
    "        tmp_token_seq = []\n",
    "        tmp_label_seq = []\n",
    "        for line in lines:\n",
    "            if len(line) > 0:\n",
    "                if lower:\n",
    "                    tmp_token_seq.append(line[0].lower())\n",
    "                else:\n",
    "                    tmp_token_seq.append(line[0])\n",
    "                tmp_label_seq.append(line[1])\n",
    "            else:\n",
    "                token_seq.append(tmp_token_seq)\n",
    "                label_seq.append(tmp_label_seq)\n",
    "                tmp_token_seq = []\n",
    "                tmp_label_seq = []\n",
    "            \n",
    "    return token_seq, label_seq"
   ]
  },
  {
   "cell_type": "markdown",
   "metadata": {
    "id": "oYm8xEvFQELb"
   },
   "source": [
    "Считаем все три файла:\n",
    "- *train.tsv*\n",
    "- *valid.tsv*\n",
    "- *test.tsv*"
   ]
  },
  {
   "cell_type": "code",
   "execution_count": 24,
   "metadata": {
    "colab": {
     "base_uri": "https://localhost:8080/"
    },
    "execution": {
     "iopub.execute_input": "2022-11-21T10:58:51.353237Z",
     "iopub.status.busy": "2022-11-21T10:58:51.352626Z",
     "iopub.status.idle": "2022-11-21T10:58:51.708934Z",
     "shell.execute_reply": "2022-11-21T10:58:51.707988Z",
     "shell.execute_reply.started": "2022-11-21T10:58:51.353187Z"
    },
    "id": "-inr1BPgQELb",
    "outputId": "125203fe-c32e-459d-e659-d1a999712147"
   },
   "outputs": [],
   "source": [
    "train_token_seq, train_label_seq = read_conll2003(\"../input/cmcnertask/msu_task_3_ner-main/train.tsv\")\n",
    "valid_token_seq, valid_label_seq = read_conll2003(\"../input/cmcnertask/msu_task_3_ner-main/valid.tsv\")\n",
    "test_token_seq, test_label_seq = read_conll2003(\"../input/cmcnertask/msu_task_3_ner-main/test.tsv\")"
   ]
  },
  {
   "cell_type": "markdown",
   "metadata": {
    "id": "sOoNc1VUQELc"
   },
   "source": [
    "Посмотрим на то, что мы получили:"
   ]
  },
  {
   "cell_type": "code",
   "execution_count": 25,
   "metadata": {
    "colab": {
     "base_uri": "https://localhost:8080/"
    },
    "execution": {
     "iopub.execute_input": "2022-11-21T10:58:51.711382Z",
     "iopub.status.busy": "2022-11-21T10:58:51.710981Z",
     "iopub.status.idle": "2022-11-21T10:58:51.717071Z",
     "shell.execute_reply": "2022-11-21T10:58:51.716001Z",
     "shell.execute_reply.started": "2022-11-21T10:58:51.711342Z"
    },
    "id": "HK8AcwWGQELd",
    "outputId": "d949fff7-3fb9-4e3e-c2fa-853d449f8314"
   },
   "outputs": [
    {
     "name": "stdout",
     "output_type": "stream",
     "text": [
      "eu\tB-ORG\n",
      "rejects\tO\n",
      "german\tB-MISC\n",
      "call\tO\n",
      "to\tO\n",
      "boycott\tO\n",
      "british\tB-MISC\n",
      "lamb\tO\n",
      ".\tO\n"
     ]
    }
   ],
   "source": [
    "for token, label in zip(train_token_seq[0], train_label_seq[0]):\n",
    "    print(f\"{token}\\t{label}\")"
   ]
  },
  {
   "cell_type": "code",
   "execution_count": 26,
   "metadata": {
    "colab": {
     "base_uri": "https://localhost:8080/"
    },
    "execution": {
     "iopub.execute_input": "2022-11-21T10:58:51.719258Z",
     "iopub.status.busy": "2022-11-21T10:58:51.718635Z",
     "iopub.status.idle": "2022-11-21T10:58:51.729457Z",
     "shell.execute_reply": "2022-11-21T10:58:51.728262Z",
     "shell.execute_reply.started": "2022-11-21T10:58:51.719223Z"
    },
    "id": "K8SqDeMJjF3Y",
    "outputId": "4939b43d-4fe6-4125-a383-6cb89b573d4e"
   },
   "outputs": [
    {
     "name": "stdout",
     "output_type": "stream",
     "text": [
      "cricket\tO\n",
      "-\tO\n",
      "leicestershire\tB-ORG\n",
      "take\tO\n",
      "over\tO\n",
      "at\tO\n",
      "top\tO\n",
      "after\tO\n",
      "innings\tO\n",
      "victory\tO\n",
      ".\tO\n"
     ]
    }
   ],
   "source": [
    "for token, label in zip(valid_token_seq[0], valid_label_seq[0]):\n",
    "    print(f\"{token}\\t{label}\")"
   ]
  },
  {
   "cell_type": "code",
   "execution_count": 27,
   "metadata": {
    "colab": {
     "base_uri": "https://localhost:8080/"
    },
    "execution": {
     "iopub.execute_input": "2022-11-21T10:58:51.732624Z",
     "iopub.status.busy": "2022-11-21T10:58:51.732215Z",
     "iopub.status.idle": "2022-11-21T10:58:51.739820Z",
     "shell.execute_reply": "2022-11-21T10:58:51.738757Z",
     "shell.execute_reply.started": "2022-11-21T10:58:51.732590Z"
    },
    "id": "ddFE7p5kjF_p",
    "outputId": "b000a8f1-49b9-4022-905e-78077ee2e666"
   },
   "outputs": [
    {
     "name": "stdout",
     "output_type": "stream",
     "text": [
      "soccer\tO\n",
      "-\tO\n",
      "japan\tB-LOC\n",
      "get\tO\n",
      "lucky\tO\n",
      "win\tO\n",
      ",\tO\n",
      "china\tB-PER\n",
      "in\tO\n",
      "surprise\tO\n",
      "defeat\tO\n",
      ".\tO\n"
     ]
    }
   ],
   "source": [
    "for token, label in zip(test_token_seq[0], test_label_seq[0]):\n",
    "    print(f\"{token}\\t{label}\")"
   ]
  },
  {
   "cell_type": "code",
   "execution_count": 28,
   "metadata": {
    "colab": {
     "base_uri": "https://localhost:8080/"
    },
    "execution": {
     "iopub.execute_input": "2022-11-21T10:58:51.741574Z",
     "iopub.status.busy": "2022-11-21T10:58:51.741145Z",
     "iopub.status.idle": "2022-11-21T10:58:51.751714Z",
     "shell.execute_reply": "2022-11-21T10:58:51.750680Z",
     "shell.execute_reply.started": "2022-11-21T10:58:51.741539Z"
    },
    "id": "BZ4Go3IXfDit",
    "outputId": "f5d3dc81-6aa2-4311-8168-b0c9dc0976d0"
   },
   "outputs": [
    {
     "name": "stdout",
     "output_type": "stream",
     "text": [
      "Тесты пройдены!\n"
     ]
    }
   ],
   "source": [
    "assert len(train_token_seq) == len(train_label_seq), \"Длины тренировочных token_seq и label_seq не совпадают, ошибка в функции read_conll2003\"\n",
    "assert len(valid_token_seq) == len(valid_label_seq), \"Длины валидационных token_seq и label_seq не совпадают, ошибка в функции read_conll2003\"\n",
    "assert len(test_token_seq) == len(test_label_seq), \"Длины тестовых token_seq и label_seq не совпадают, ошибка в функции read_conll2003\"\n",
    "\n",
    "assert train_token_seq[0] == ['eu', 'rejects', 'german', 'call', 'to', 'boycott', 'british', 'lamb', '.'], \"Ошибка в тренировочном token_seq\"\n",
    "assert train_label_seq[0] == ['B-ORG', 'O', 'B-MISC', 'O', 'O', 'O', 'B-MISC', 'O', 'O'], \"Ошибка в тренировочном label_seq\"\n",
    "\n",
    "assert valid_token_seq[0] == ['cricket', '-', 'leicestershire', 'take', 'over', 'at', 'top', 'after', 'innings', 'victory', '.'], \"Ошибка в валидационном token_seq\"\n",
    "assert valid_label_seq[0] == ['O', 'O', 'B-ORG', 'O', 'O', 'O', 'O', 'O', 'O', 'O', 'O'], \"Ошибка в валидационном label_seq\"\n",
    "\n",
    "assert test_token_seq[0] == ['soccer', '-', 'japan', 'get', 'lucky', 'win', ',', 'china', 'in', 'surprise', 'defeat', '.'], \"Ошибка в тестовом token_seq\"\n",
    "assert test_label_seq[0] == ['O', 'O', 'B-LOC', 'O', 'O', 'O', 'O', 'B-PER', 'O', 'O', 'O', 'O'], \"Ошибка в тестовом label_seq\"\n",
    "\n",
    "print(\"Тесты пройдены!\")"
   ]
  },
  {
   "cell_type": "markdown",
   "metadata": {
    "id": "j96zKo6PQELd"
   },
   "source": [
    "Датасет CoNLL-2003 представлен в виде разметки **BIO**, где лейбл:\n",
    "- *B-{label}* - начало сущности *{label}*\n",
    "- *I-{label}* - продолжение сущности *{label}*\n",
    "- *O* - отсутсвие сущности\n",
    "\n",
    "Также существует другие разметки последовательностей, например **BILUO**. Подробнее с разметками можно ознакомится во вспомогательном ноутбуке."
   ]
  },
  {
   "cell_type": "markdown",
   "metadata": {
    "id": "8SVL4USbQELe"
   },
   "source": [
    "### Подготовка словарей\n",
    "\n",
    "Чтобы обучать нейронную сеть, мы будем использовать два отображения:\n",
    "- {**token**}→{**token_idx**}: соответствие между словом / токеном и строкой в *embedding* матрице (начинается с 0);\n",
    "- {**label**}→{**label_idx**}: соответствие между тегом и уникальным индексом (начинается с 0);\n",
    "\n",
    "Теперь нам необходимо реализовать две функции:\n",
    "- get_token2idx\n",
    "- get_label2idx\n",
    "\n",
    "которые будут возвращать соответствующие словари.\n",
    "\n",
    "P.S. token2idx словарь должен также содержать специальные токены:\n",
    "- `<PAD>` - спецтокен для паддинга, так как мы собираемся обучать модели батчами\n",
    "- `<UNK>` - спецтокен для обработки слов / токенов, которых нет в словаре (актуально для инференса)\n",
    "\n",
    "Давайте для удобства дадим им idx 0 и 1 соответственно.\n",
    "\n",
    "P.P.S. В get_token2idx можно также добавить параметр *min_count*, который будет включать только слова превышающие определенную частоту."
   ]
  },
  {
   "cell_type": "markdown",
   "metadata": {
    "id": "aOnc3UHpQELf"
   },
   "source": [
    "Сначала соберем:\n",
    "- token2cnt - словарь из уникального слова / токена в количество это слова / токена в тренировочной выборке (важно, что только в тренировочной!)\n",
    "- label_set - список из уникальных тегов\n",
    "\n",
    "P.S. Также можно использовать стемминг для того, чтобы преобразовывать разные словоформы одного слова в один токен, но мы опустим этот момент.\n",
    "\n",
    "**Задание. Реализуйте функции get_token2idx и get_label2idx.** **<font color='red'>(1 балл)</font>**"
   ]
  },
  {
   "cell_type": "code",
   "execution_count": 29,
   "metadata": {
    "execution": {
     "iopub.execute_input": "2022-11-21T10:58:51.753739Z",
     "iopub.status.busy": "2022-11-21T10:58:51.752875Z",
     "iopub.status.idle": "2022-11-21T10:58:51.798638Z",
     "shell.execute_reply": "2022-11-21T10:58:51.797801Z",
     "shell.execute_reply.started": "2022-11-21T10:58:51.753704Z"
    },
    "id": "IthnXKsoo7A3"
   },
   "outputs": [],
   "source": [
    "token2cnt = Counter([token for sentence in train_token_seq for token in sentence])"
   ]
  },
  {
   "cell_type": "code",
   "execution_count": 30,
   "metadata": {
    "colab": {
     "base_uri": "https://localhost:8080/"
    },
    "execution": {
     "iopub.execute_input": "2022-11-21T10:58:51.800353Z",
     "iopub.status.busy": "2022-11-21T10:58:51.799777Z",
     "iopub.status.idle": "2022-11-21T10:58:51.812074Z",
     "shell.execute_reply": "2022-11-21T10:58:51.811132Z",
     "shell.execute_reply.started": "2022-11-21T10:58:51.800318Z"
    },
    "id": "b_v8YUM7QELg",
    "outputId": "77f22cb2-a640-43e5-996b-fcaa2020ce99"
   },
   "outputs": [
    {
     "data": {
      "text/plain": [
       "[('the', 8390),\n",
       " ('.', 7374),\n",
       " (',', 7290),\n",
       " ('of', 3815),\n",
       " ('in', 3621),\n",
       " ('to', 3424),\n",
       " ('a', 3199),\n",
       " ('and', 2872),\n",
       " ('(', 2861),\n",
       " (')', 2861)]"
      ]
     },
     "execution_count": 30,
     "metadata": {},
     "output_type": "execute_result"
    }
   ],
   "source": [
    "token2cnt.most_common(10)"
   ]
  },
  {
   "cell_type": "code",
   "execution_count": 31,
   "metadata": {
    "colab": {
     "base_uri": "https://localhost:8080/"
    },
    "execution": {
     "iopub.execute_input": "2022-11-21T10:58:51.815538Z",
     "iopub.status.busy": "2022-11-21T10:58:51.815209Z",
     "iopub.status.idle": "2022-11-21T10:58:51.826175Z",
     "shell.execute_reply": "2022-11-21T10:58:51.825239Z",
     "shell.execute_reply.started": "2022-11-21T10:58:51.815514Z"
    },
    "id": "MSm7B546nmDh",
    "outputId": "d6863a06-52a2-42da-859f-41097e761673"
   },
   "outputs": [
    {
     "name": "stdout",
     "output_type": "stream",
     "text": [
      "Количество уникальных слов в тренировочном датасете: 21010\n",
      "Количество слов встречающихся только один раз в тренировочном датасете: 10060\n"
     ]
    }
   ],
   "source": [
    "print(f\"Количество уникальных слов в тренировочном датасете: {len(token2cnt)}\")\n",
    "print(f\"Количество слов встречающихся только один раз в тренировочном датасете: {len([token for token, cnt in token2cnt.items() if cnt == 1])}\")"
   ]
  },
  {
   "cell_type": "markdown",
   "metadata": {
    "id": "sRtCHt1QruSU"
   },
   "source": [
    "Как мы видим, у нас есть много слов, которые встречаются только один раз в датасете. Очевидно, что выучиться по ним у нас не получиться, мы только переобучимся, поэтому давайте выкинем такие слова при формировании нашего словаря."
   ]
  },
  {
   "cell_type": "code",
   "execution_count": 32,
   "metadata": {
    "execution": {
     "iopub.execute_input": "2022-11-21T10:58:51.827842Z",
     "iopub.status.busy": "2022-11-21T10:58:51.827576Z",
     "iopub.status.idle": "2022-11-21T10:58:51.835623Z",
     "shell.execute_reply": "2022-11-21T10:58:51.834478Z",
     "shell.execute_reply.started": "2022-11-21T10:58:51.827819Z"
    },
    "id": "aCaPftCyQELi"
   },
   "outputs": [],
   "source": [
    "# используйте параметр min_count для того, чтобы отсекать слова частотой cnt < min_count\n",
    "\n",
    "def get_token2idx(\n",
    "    token2cnt: Dict[str, int],\n",
    "    min_count: int,\n",
    ") -> Dict[str, int]:\n",
    "    \"\"\"\n",
    "    Get mapping from tokens to indices to use with Embedding layer.\n",
    "    \"\"\"\n",
    "    \n",
    "    # YOUR CODE HERE\n",
    "    token2idx = {'<PAD>': 0, '<UNK>': 1}\n",
    "    \n",
    "    i = len(token2idx)\n",
    "    for token, cnt in token2cnt.items():\n",
    "        if cnt >= min_count:\n",
    "            token2idx[token] = i\n",
    "            i += 1\n",
    "\n",
    "    return token2idx"
   ]
  },
  {
   "cell_type": "code",
   "execution_count": 33,
   "metadata": {
    "colab": {
     "base_uri": "https://localhost:8080/"
    },
    "execution": {
     "iopub.execute_input": "2022-11-21T10:58:51.839216Z",
     "iopub.status.busy": "2022-11-21T10:58:51.838949Z",
     "iopub.status.idle": "2022-11-21T10:58:51.849856Z",
     "shell.execute_reply": "2022-11-21T10:58:51.848887Z",
     "shell.execute_reply.started": "2022-11-21T10:58:51.839175Z"
    },
    "id": "uFK130y-sLH4",
    "outputId": "35f031b5-9388-48c4-8f8a-e77b5a3e580f"
   },
   "outputs": [],
   "source": [
    "token2idx = get_token2idx(token2cnt, min_count=2)"
   ]
  },
  {
   "cell_type": "code",
   "execution_count": 34,
   "metadata": {
    "execution": {
     "iopub.execute_input": "2022-11-21T10:58:51.851700Z",
     "iopub.status.busy": "2022-11-21T10:58:51.851370Z",
     "iopub.status.idle": "2022-11-21T10:58:51.874828Z",
     "shell.execute_reply": "2022-11-21T10:58:51.873996Z",
     "shell.execute_reply.started": "2022-11-21T10:58:51.851668Z"
    },
    "id": "g69HFZC7QELh"
   },
   "outputs": [],
   "source": [
    "# Функция для сортировки тегов, чтобы сначала был тег O, потом теги B- и только после теги I- (можно задать вручную)\n",
    "\n",
    "def sort_labels_func(x: str) -> int:\n",
    "    if x == \"O\":\n",
    "        return 0\n",
    "    elif x.startswith(\"B-\"):\n",
    "        return 1\n",
    "    else:\n",
    "        return 2\n",
    "\n",
    "label_set = sorted(\n",
    "    set(label for sentence in train_label_seq for label in sentence),\n",
    "    key=lambda x: (sort_labels_func(x), x),\n",
    ")"
   ]
  },
  {
   "cell_type": "code",
   "execution_count": 35,
   "metadata": {
    "colab": {
     "base_uri": "https://localhost:8080/"
    },
    "execution": {
     "iopub.execute_input": "2022-11-21T10:58:51.876548Z",
     "iopub.status.busy": "2022-11-21T10:58:51.875999Z",
     "iopub.status.idle": "2022-11-21T10:58:51.882854Z",
     "shell.execute_reply": "2022-11-21T10:58:51.881844Z",
     "shell.execute_reply.started": "2022-11-21T10:58:51.876516Z"
    },
    "id": "VI_3m4qbQELi",
    "outputId": "116bfcab-c56b-4ad9-b0f8-894ead418318"
   },
   "outputs": [
    {
     "data": {
      "text/plain": [
       "['O', 'B-LOC', 'B-MISC', 'B-ORG', 'B-PER', 'I-LOC', 'I-MISC', 'I-ORG', 'I-PER']"
      ]
     },
     "execution_count": 35,
     "metadata": {},
     "output_type": "execute_result"
    }
   ],
   "source": [
    "label_set"
   ]
  },
  {
   "cell_type": "code",
   "execution_count": 36,
   "metadata": {
    "execution": {
     "iopub.execute_input": "2022-11-21T10:58:51.885132Z",
     "iopub.status.busy": "2022-11-21T10:58:51.884105Z",
     "iopub.status.idle": "2022-11-21T10:58:51.891369Z",
     "shell.execute_reply": "2022-11-21T10:58:51.890260Z",
     "shell.execute_reply.started": "2022-11-21T10:58:51.885100Z"
    },
    "id": "t6i51GPtQELj"
   },
   "outputs": [],
   "source": [
    "def get_label2idx(label_set: List[str]) -> Dict[str, int]:\n",
    "    \"\"\"\n",
    "    Get mapping from labels to indices.\n",
    "    \"\"\"\n",
    "\n",
    "    label2idx: Dict[str, int] = {}\n",
    "\n",
    "    # YOUR CODE HERE\n",
    "    i = len(label2idx)\n",
    "    for label in label_set:\n",
    "        label2idx[label] = i\n",
    "        i += 1\n",
    "\n",
    "    return label2idx"
   ]
  },
  {
   "cell_type": "code",
   "execution_count": 37,
   "metadata": {
    "colab": {
     "base_uri": "https://localhost:8080/"
    },
    "execution": {
     "iopub.execute_input": "2022-11-21T10:58:51.894604Z",
     "iopub.status.busy": "2022-11-21T10:58:51.893847Z",
     "iopub.status.idle": "2022-11-21T10:58:51.900011Z",
     "shell.execute_reply": "2022-11-21T10:58:51.899318Z",
     "shell.execute_reply.started": "2022-11-21T10:58:51.894567Z"
    },
    "id": "XW6fK0HtQELk",
    "outputId": "17d18b48-55fa-4603-b342-e61409199577"
   },
   "outputs": [],
   "source": [
    "label2idx = get_label2idx(label_set)"
   ]
  },
  {
   "cell_type": "markdown",
   "metadata": {
    "id": "U13l-2IOQELk"
   },
   "source": [
    "Посмотрим на то, что мы получили:"
   ]
  },
  {
   "cell_type": "code",
   "execution_count": 38,
   "metadata": {
    "colab": {
     "base_uri": "https://localhost:8080/"
    },
    "execution": {
     "iopub.execute_input": "2022-11-21T10:58:51.906010Z",
     "iopub.status.busy": "2022-11-21T10:58:51.905099Z",
     "iopub.status.idle": "2022-11-21T10:58:51.915010Z",
     "shell.execute_reply": "2022-11-21T10:58:51.913975Z",
     "shell.execute_reply.started": "2022-11-21T10:58:51.905977Z"
    },
    "id": "O7U7bMrHQELl",
    "outputId": "53d80294-e80b-4536-acfa-99bf171d2e40"
   },
   "outputs": [
    {
     "name": "stdout",
     "output_type": "stream",
     "text": [
      "<PAD>\t0\n",
      "<UNK>\t1\n",
      "eu\t2\n",
      "german\t3\n",
      "call\t4\n",
      "to\t5\n",
      "boycott\t6\n",
      "british\t7\n",
      "lamb\t8\n",
      ".\t9\n"
     ]
    }
   ],
   "source": [
    "for token, idx in list(token2idx.items())[:10]:\n",
    "    print(f\"{token}\\t{idx}\")"
   ]
  },
  {
   "cell_type": "code",
   "execution_count": 39,
   "metadata": {
    "colab": {
     "base_uri": "https://localhost:8080/"
    },
    "execution": {
     "iopub.execute_input": "2022-11-21T10:58:51.947374Z",
     "iopub.status.busy": "2022-11-21T10:58:51.947102Z",
     "iopub.status.idle": "2022-11-21T10:58:51.953364Z",
     "shell.execute_reply": "2022-11-21T10:58:51.952244Z",
     "shell.execute_reply.started": "2022-11-21T10:58:51.947350Z"
    },
    "id": "Hp75V-o2QELl",
    "outputId": "7f85dca1-eea6-4789-e261-1552bcaf91d4"
   },
   "outputs": [
    {
     "name": "stdout",
     "output_type": "stream",
     "text": [
      "O\t0\n",
      "B-LOC\t1\n",
      "B-MISC\t2\n",
      "B-ORG\t3\n",
      "B-PER\t4\n",
      "I-LOC\t5\n",
      "I-MISC\t6\n",
      "I-ORG\t7\n",
      "I-PER\t8\n"
     ]
    }
   ],
   "source": [
    "for label, idx in label2idx.items():\n",
    "    print(f\"{label}\\t{idx}\")"
   ]
  },
  {
   "cell_type": "code",
   "execution_count": 40,
   "metadata": {
    "colab": {
     "base_uri": "https://localhost:8080/"
    },
    "execution": {
     "iopub.execute_input": "2022-11-21T10:58:51.988851Z",
     "iopub.status.busy": "2022-11-21T10:58:51.988328Z",
     "iopub.status.idle": "2022-11-21T10:58:52.003337Z",
     "shell.execute_reply": "2022-11-21T10:58:52.002243Z",
     "shell.execute_reply.started": "2022-11-21T10:58:51.988816Z"
    },
    "id": "VYb4BdAUhNzk",
    "outputId": "dc62e8d8-7b62-4638-c436-aaf657dc5287"
   },
   "outputs": [
    {
     "name": "stdout",
     "output_type": "stream",
     "text": [
      "Тесты пройдены!\n"
     ]
    }
   ],
   "source": [
    "assert len(get_token2idx(token2cnt, min_count=1)) == 21012, \"Ошибка в длине словаря, скорее всего неверно реализован min_count\"\n",
    "assert len(token2idx) == 10952, \"Неправильная длина token2idx, скорее всего неверно реализован min_count\"\n",
    "assert len(label2idx) == 9, \"Неправильная длина label2idx\"\n",
    "\n",
    "assert list(token2idx.items())[:10] == [('<PAD>', 0), ('<UNK>', 1), ('eu', 2), ('german', 3), ('call', 4), ('to', 5), ('boycott', 6), ('british', 7), ('lamb', 8), ('.', 9)], \"Неправильно сформированный token2idx\"\n",
    "assert label2idx == {'O': 0, 'B-LOC': 1, 'B-MISC': 2, 'B-ORG': 3, 'B-PER': 4, 'I-LOC': 5, 'I-MISC': 6, 'I-ORG': 7, 'I-PER': 8}, \"Неправильно сформированный label2idx\"\n",
    "\n",
    "print(\"Тесты пройдены!\")"
   ]
  },
  {
   "cell_type": "markdown",
   "metadata": {
    "id": "ItPs1DmOQELm"
   },
   "source": [
    "### Подготовка датасета и загрузчика\n",
    "\n",
    "Обычно нейронные сети обучаются батчами. Это означает, что каждое обновление весов нейронной сети происходит на основе нескольких последовательностей. Технической деталью является необходимость дополнить все последовательности внутри батча до одной длины.\n",
    "\n",
    "Из предыдущего практического задания вы должны знать о `Dataset`'е (`torch.utils.data.Dataset`) - структура данных, которая хранит и может по индексу отдавать данные для обучения. Датасет должен наследоваться от стандартного PyTorch класса Dataset и переопределять методы `__len__` и `__getitem__`.\n",
    "\n",
    "Метод `__getitem__` должен возвращать индексированную последовательность и её теги.\n",
    "\n",
    "**Не забудьте** про `<UNK>` спецтокен для неизвестных слов!\n",
    "    \n",
    "Давайте напишем кастомный датасет под нашу задачу, который на вход (метод `__init__`) будет принимать:\n",
    "- token_seq - список списков слов / токенов\n",
    "- label_seq - список списков тегов\n",
    "- token2idx\n",
    "- label2idx\n",
    "\n",
    "и возвращать из метода `__getitem__` два int64 тензора (`torch.LongTensor`) из индексов слов / токенов в сэмпле и индексов соответвующих тегов:\n",
    "\n",
    "**Задание. Реализуйте класс датасета NERDataset.** **<font color='red'>(1 балл)</font>**"
   ]
  },
  {
   "cell_type": "code",
   "execution_count": 41,
   "metadata": {
    "execution": {
     "iopub.execute_input": "2022-11-21T10:58:52.027022Z",
     "iopub.status.busy": "2022-11-21T10:58:52.026771Z",
     "iopub.status.idle": "2022-11-21T10:58:52.037998Z",
     "shell.execute_reply": "2022-11-21T10:58:52.036970Z",
     "shell.execute_reply.started": "2022-11-21T10:58:52.027000Z"
    },
    "id": "kdZvnUUpQELm"
   },
   "outputs": [],
   "source": [
    "class NERDataset(torch.utils.data.Dataset):\n",
    "    \"\"\"\n",
    "    PyTorch Dataset for NER.\n",
    "    \"\"\"\n",
    "\n",
    "    def __init__(\n",
    "        self,\n",
    "        token_seq: List[List[str]],\n",
    "        label_seq: List[List[str]],\n",
    "        token2idx: Dict[str, int],\n",
    "        label2idx: Dict[str, int],\n",
    "    ):\n",
    "        self.token2idx = token2idx\n",
    "        self.label2idx = label2idx\n",
    "\n",
    "        self.token_seq = [self.process_tokens(tokens, token2idx) for tokens in token_seq]\n",
    "        self.label_seq = [self.process_labels(labels, label2idx) for labels in label_seq]\n",
    "\n",
    "    def __len__(self):\n",
    "        return len(self.token_seq)\n",
    "\n",
    "    def __getitem__(\n",
    "        self,\n",
    "        idx: int,\n",
    "    ) -> Tuple[torch.LongTensor, torch.LongTensor]:\n",
    "        # YOUR CODE HERE\n",
    "        return torch.LongTensor(self.token_seq[idx]), torch.LongTensor(self.label_seq[idx])\n",
    "    \n",
    "    @staticmethod\n",
    "    def process_tokens(\n",
    "        tokens: List[str],\n",
    "        token2idx: Dict[str, int],\n",
    "        unk: str = \"<UNK>\",\n",
    "    ) -> List[int]:\n",
    "        \"\"\"\n",
    "        Transform list of tokens into list of tokens' indices.\n",
    "        \"\"\"\n",
    "        # YOUR CODE HERE\n",
    "        return [token2idx.get(token, token2idx.get(unk)) for token in tokens]\n",
    "\n",
    "    @staticmethod\n",
    "    def process_labels(\n",
    "        labels: List[str],\n",
    "        label2idx: Dict[str, int],\n",
    "    ) -> List[int]:\n",
    "        \"\"\"\n",
    "        Transform list of labels into list of labels' indices.\n",
    "        \"\"\"\n",
    "        # YOUR CODE HERE\n",
    "        return [label2idx.get(label) for label in labels]"
   ]
  },
  {
   "cell_type": "markdown",
   "metadata": {
    "id": "yCvaPJERQELn"
   },
   "source": [
    "Создадим три датасета:\n",
    "- *train_dataset*\n",
    "- *valid_dataset*\n",
    "- *test_dataset*"
   ]
  },
  {
   "cell_type": "code",
   "execution_count": 42,
   "metadata": {
    "execution": {
     "iopub.execute_input": "2022-11-21T10:58:52.064767Z",
     "iopub.status.busy": "2022-11-21T10:58:52.064515Z",
     "iopub.status.idle": "2022-11-21T10:58:52.222356Z",
     "shell.execute_reply": "2022-11-21T10:58:52.221265Z",
     "shell.execute_reply.started": "2022-11-21T10:58:52.064745Z"
    },
    "id": "bUMsSNkoQELn"
   },
   "outputs": [],
   "source": [
    "train_dataset = NERDataset(\n",
    "    token_seq=train_token_seq,\n",
    "    label_seq=train_label_seq,\n",
    "    token2idx=token2idx,\n",
    "    label2idx=label2idx,\n",
    ")\n",
    "valid_dataset = NERDataset(\n",
    "    token_seq=valid_token_seq,\n",
    "    label_seq=valid_label_seq,\n",
    "    token2idx=token2idx,\n",
    "    label2idx=label2idx,\n",
    ")\n",
    "test_dataset = NERDataset(\n",
    "    token_seq=test_token_seq,\n",
    "    label_seq=test_label_seq,\n",
    "    token2idx=token2idx,\n",
    "    label2idx=label2idx,\n",
    ")"
   ]
  },
  {
   "cell_type": "markdown",
   "metadata": {
    "id": "jQIq1pAWQELo"
   },
   "source": [
    "Посмотрим на то, что мы получили:"
   ]
  },
  {
   "cell_type": "code",
   "execution_count": 43,
   "metadata": {
    "colab": {
     "base_uri": "https://localhost:8080/"
    },
    "execution": {
     "iopub.execute_input": "2022-11-21T10:58:52.224426Z",
     "iopub.status.busy": "2022-11-21T10:58:52.224136Z",
     "iopub.status.idle": "2022-11-21T10:58:52.231566Z",
     "shell.execute_reply": "2022-11-21T10:58:52.230511Z",
     "shell.execute_reply.started": "2022-11-21T10:58:52.224401Z"
    },
    "id": "Q_Scync0QELo",
    "outputId": "1669dbf8-2b23-40e0-9012-430cd44c9bc4"
   },
   "outputs": [
    {
     "data": {
      "text/plain": [
       "(tensor([2, 1, 3, 4, 5, 6, 7, 8, 9]), tensor([3, 0, 2, 0, 0, 0, 2, 0, 0]))"
      ]
     },
     "execution_count": 43,
     "metadata": {},
     "output_type": "execute_result"
    }
   ],
   "source": [
    "train_dataset[0]"
   ]
  },
  {
   "cell_type": "code",
   "execution_count": 44,
   "metadata": {
    "colab": {
     "base_uri": "https://localhost:8080/"
    },
    "execution": {
     "iopub.execute_input": "2022-11-21T10:58:52.234107Z",
     "iopub.status.busy": "2022-11-21T10:58:52.233299Z",
     "iopub.status.idle": "2022-11-21T10:58:52.241790Z",
     "shell.execute_reply": "2022-11-21T10:58:52.240772Z",
     "shell.execute_reply.started": "2022-11-21T10:58:52.234025Z"
    },
    "id": "zyAazaLzjQ-K",
    "outputId": "ed864972-9051-4b85-e206-30e59d9971c8"
   },
   "outputs": [
    {
     "data": {
      "text/plain": [
       "(tensor([1737,  571, 1777,  197,  687,  145,  349,  111, 1819, 1558,    9]),\n",
       " tensor([0, 0, 3, 0, 0, 0, 0, 0, 0, 0, 0]))"
      ]
     },
     "execution_count": 44,
     "metadata": {},
     "output_type": "execute_result"
    }
   ],
   "source": [
    "valid_dataset[0]"
   ]
  },
  {
   "cell_type": "code",
   "execution_count": 45,
   "metadata": {
    "colab": {
     "base_uri": "https://localhost:8080/"
    },
    "execution": {
     "iopub.execute_input": "2022-11-21T10:58:52.245071Z",
     "iopub.status.busy": "2022-11-21T10:58:52.244411Z",
     "iopub.status.idle": "2022-11-21T10:58:52.252276Z",
     "shell.execute_reply": "2022-11-21T10:58:52.251183Z",
     "shell.execute_reply.started": "2022-11-21T10:58:52.245038Z"
    },
    "id": "NHuuh3YmjRNt",
    "outputId": "5f214ff3-7bbb-4b7c-8c9c-a861562b09cd"
   },
   "outputs": [
    {
     "data": {
      "text/plain": [
       "(tensor([1516,  571, 1434, 1729, 4893, 2014,   67,  310,  215, 3157, 3139,    9]),\n",
       " tensor([0, 0, 1, 0, 0, 0, 0, 4, 0, 0, 0, 0]))"
      ]
     },
     "execution_count": 45,
     "metadata": {},
     "output_type": "execute_result"
    }
   ],
   "source": [
    "test_dataset[0]"
   ]
  },
  {
   "cell_type": "code",
   "execution_count": 46,
   "metadata": {
    "colab": {
     "base_uri": "https://localhost:8080/"
    },
    "execution": {
     "iopub.execute_input": "2022-11-21T10:58:52.253993Z",
     "iopub.status.busy": "2022-11-21T10:58:52.253590Z",
     "iopub.status.idle": "2022-11-21T10:58:52.267361Z",
     "shell.execute_reply": "2022-11-21T10:58:52.266129Z",
     "shell.execute_reply.started": "2022-11-21T10:58:52.253959Z"
    },
    "id": "Gox6uyF2idwZ",
    "outputId": "8abb0480-9913-4f8a-d50e-1713611cbc9b"
   },
   "outputs": [
    {
     "name": "stdout",
     "output_type": "stream",
     "text": [
      "Тесты пройдены!\n"
     ]
    }
   ],
   "source": [
    "assert len(train_dataset) == 14986, \"Неправильная длина train_dataset\"\n",
    "assert len(valid_dataset) == 3465, \"Неправильная длина valid_dataset\"\n",
    "assert len(test_dataset) == 3683, \"Неправильная длина test_dataset\"\n",
    "\n",
    "assert torch.equal(train_dataset[0][0], torch.tensor([2,1,3,4,5,6,7,8,9])), \"Неправильно сформированный train_dataset\"\n",
    "assert torch.equal(train_dataset[0][1], torch.tensor([3,0,2,0,0,0,2,0,0])), \"Неправильно сформированный train_dataset\"\n",
    "\n",
    "assert torch.equal(valid_dataset[0][0], torch.tensor([1737,571,1777,197,687,145,349,111,1819,1558,9])), \"Неправильно сформированный valid_dataset\"\n",
    "assert torch.equal(valid_dataset[0][1], torch.tensor([0,0,3,0,0,0,0,0,0,0,0])), \"Неправильно сформированный valid_dataset\"\n",
    "\n",
    "assert torch.equal(test_dataset[0][0], torch.tensor([1516,571,1434,1729,4893,2014,67,310,215,3157,3139,9])), \"Неправильно сформированный test_dataset\"\n",
    "assert torch.equal(test_dataset[0][1], torch.tensor([0,0,1,0,0,0,0,4,0,0,0,0])), \"Неправильно сформированный test_dataset\"\n",
    "\n",
    "print(\"Тесты пройдены!\")"
   ]
  },
  {
   "cell_type": "markdown",
   "metadata": {
    "id": "mWjJuAk7QELp"
   },
   "source": [
    "Для того, чтобы дополнять последовательности паддингом, будем использовать параметр `collate_fn` класса `DataLoader`.\n",
    "\n",
    "Принимая последовательность пар тензоров для предложений и тегов, необходимо дополнить все последовательности до последовательности максимальной длины в батче.\n",
    "\n",
    "Используйте для дополнения спецтокен `<PAD>` для последовательностей слов / токенов и -1 для последовательностей тегов.\n",
    "\n",
    "**hint**: удобно использовать метод **torch.nn.utils.rnn**. Обратите особое внимание на параметр *batch_first*"
   ]
  },
  {
   "cell_type": "markdown",
   "metadata": {
    "id": "VZiJVM5qQELp"
   },
   "source": [
    "`Collator` можно реализовать двумя способами:\n",
    "- класс с методом `__call__`\n",
    "- функцию\n",
    "\n",
    "Мы пойдем первым путем.\n",
    "\n",
    "Инициализировать экземпляр класса `Collator` (метод `__init__`) с помощью двух параметров:\n",
    "- id `<PAD>` спецтокена для последовательностей слов / токенов\n",
    "- id `<PAD>` спецтокена для последовательностей тегов (значение -1)\n",
    "\n",
    "Метод `__call__` на вход принимает батч, а именно список кортежей того, что нам возвращается из датасета. В нашем случае это список кортежей двух int64 тензоров - `List[Tuple[torch.LongTensor, torch.LongTensor]]`.\n",
    "\n",
    "На выходе мы хотим получить два тензора:\n",
    "- западденные индексы слов / токенов\n",
    "- западденные индексы тегов\n",
    "    \n",
    "P.S. `<PAD>` значение нужно для того, чтобы при подсчете лосса легко отличать западдированные токены от других. Можно использовать параметр *ignore_index* при инициализации лосса.\n",
    "\n",
    "**Задание. Реализуйте класс коллатора NERCollator.** **<font color='red'>(1 балл)</font>**"
   ]
  },
  {
   "cell_type": "code",
   "execution_count": 47,
   "metadata": {
    "execution": {
     "iopub.execute_input": "2022-11-21T10:58:52.270139Z",
     "iopub.status.busy": "2022-11-21T10:58:52.269577Z",
     "iopub.status.idle": "2022-11-21T10:58:52.279390Z",
     "shell.execute_reply": "2022-11-21T10:58:52.278352Z",
     "shell.execute_reply.started": "2022-11-21T10:58:52.270100Z"
    },
    "id": "LNHNwoLnQELp"
   },
   "outputs": [],
   "source": [
    "from torch.nn.utils.rnn import pad_sequence\n",
    "class NERCollator:\n",
    "    \"\"\"\n",
    "    Collator that handles variable-size sentences.\n",
    "    \"\"\"\n",
    "\n",
    "    def __init__(\n",
    "        self,\n",
    "        token_padding_value: int,\n",
    "        label_padding_value: int,\n",
    "    ):\n",
    "        self.token_padding_value = token_padding_value\n",
    "        self.label_padding_value = label_padding_value\n",
    "\n",
    "    def __call__(\n",
    "        self,\n",
    "        batch: List[Tuple[torch.LongTensor, torch.LongTensor]],\n",
    "    ) -> Tuple[torch.LongTensor, torch.LongTensor]:\n",
    "\n",
    "        tokens, labels = zip(*batch)\n",
    "\n",
    "        # YOUR CODE HERE\n",
    "        tokens = pad_sequence(tokens, padding_value=self.token_padding_value, batch_first=True,)\n",
    "        labels = pad_sequence(labels, padding_value=self.label_padding_value, batch_first=True)\n",
    "\n",
    "        return tokens, labels"
   ]
  },
  {
   "cell_type": "code",
   "execution_count": 48,
   "metadata": {
    "execution": {
     "iopub.execute_input": "2022-11-21T10:58:52.302011Z",
     "iopub.status.busy": "2022-11-21T10:58:52.300016Z",
     "iopub.status.idle": "2022-11-21T10:58:52.306220Z",
     "shell.execute_reply": "2022-11-21T10:58:52.305140Z",
     "shell.execute_reply.started": "2022-11-21T10:58:52.301985Z"
    },
    "id": "nZUMwVQTQELq"
   },
   "outputs": [],
   "source": [
    "collator = NERCollator(\n",
    "    token_padding_value=token2idx[\"<PAD>\"],\n",
    "    label_padding_value=-1,\n",
    ")"
   ]
  },
  {
   "cell_type": "markdown",
   "metadata": {
    "id": "Jsgfij8WQELq"
   },
   "source": [
    "Теперь всё готово, чтобы задать `DataLoader`'ы:"
   ]
  },
  {
   "cell_type": "code",
   "execution_count": 49,
   "metadata": {
    "execution": {
     "iopub.execute_input": "2022-11-21T10:58:52.340227Z",
     "iopub.status.busy": "2022-11-21T10:58:52.339642Z",
     "iopub.status.idle": "2022-11-21T10:58:52.346681Z",
     "shell.execute_reply": "2022-11-21T10:58:52.345557Z",
     "shell.execute_reply.started": "2022-11-21T10:58:52.340174Z"
    },
    "id": "gFljkiBOQELr"
   },
   "outputs": [],
   "source": [
    "train_dataloader = torch.utils.data.DataLoader(\n",
    "    train_dataset,\n",
    "    batch_size=2,\n",
    "    shuffle=True,\n",
    "    collate_fn=collator,\n",
    ")\n",
    "valid_dataloader = torch.utils.data.DataLoader(\n",
    "    valid_dataset,\n",
    "    batch_size=1,  # для корректных замеров метрик оставить batch_size=1\n",
    "    shuffle=False, # для корректных замеров метрик оставить shuffle=False\n",
    "    collate_fn=collator,\n",
    ")\n",
    "test_dataloader = torch.utils.data.DataLoader(\n",
    "    test_dataset,\n",
    "    batch_size=1,  # для корректных замеров метрик оставить batch_size=1\n",
    "    shuffle=False, # для корректных замеров метрик оставить shuffle=False\n",
    "    collate_fn=collator,\n",
    ")"
   ]
  },
  {
   "cell_type": "markdown",
   "metadata": {
    "id": "i34wGJ4uQELr"
   },
   "source": [
    "Посмотрим на то, что мы получили:"
   ]
  },
  {
   "cell_type": "code",
   "execution_count": 50,
   "metadata": {
    "execution": {
     "iopub.execute_input": "2022-11-21T10:58:52.379225Z",
     "iopub.status.busy": "2022-11-21T10:58:52.378434Z",
     "iopub.status.idle": "2022-11-21T10:58:55.064821Z",
     "shell.execute_reply": "2022-11-21T10:58:55.063814Z",
     "shell.execute_reply.started": "2022-11-21T10:58:52.379166Z"
    },
    "id": "QLlr_DztQELr"
   },
   "outputs": [],
   "source": [
    "tokens, labels = next(iter(train_dataloader))\n",
    "\n",
    "tokens = tokens.to(device)\n",
    "labels = labels.to(device)"
   ]
  },
  {
   "cell_type": "code",
   "execution_count": 51,
   "metadata": {
    "colab": {
     "base_uri": "https://localhost:8080/"
    },
    "execution": {
     "iopub.execute_input": "2022-11-21T10:58:55.067370Z",
     "iopub.status.busy": "2022-11-21T10:58:55.066980Z",
     "iopub.status.idle": "2022-11-21T10:58:55.077900Z",
     "shell.execute_reply": "2022-11-21T10:58:55.076909Z",
     "shell.execute_reply.started": "2022-11-21T10:58:55.067332Z"
    },
    "id": "FdMMEDdbQELs",
    "outputId": "b7bd1bb5-248b-482c-cd5e-c98c6c3709f8"
   },
   "outputs": [
    {
     "data": {
      "text/plain": [
       "tensor([[7796, 1162, 2553, 7237, 1342,    0,    0,    0,    0,    0],\n",
       "        [ 125, 1167,    1,   67, 1349,  489, 1215, 1364, 1365, 1366]],\n",
       "       device='cuda:0')"
      ]
     },
     "execution_count": 51,
     "metadata": {},
     "output_type": "execute_result"
    }
   ],
   "source": [
    "tokens"
   ]
  },
  {
   "cell_type": "code",
   "execution_count": 52,
   "metadata": {
    "colab": {
     "base_uri": "https://localhost:8080/"
    },
    "execution": {
     "iopub.execute_input": "2022-11-21T10:58:55.080998Z",
     "iopub.status.busy": "2022-11-21T10:58:55.080070Z",
     "iopub.status.idle": "2022-11-21T10:58:55.089054Z",
     "shell.execute_reply": "2022-11-21T10:58:55.087894Z",
     "shell.execute_reply.started": "2022-11-21T10:58:55.080964Z"
    },
    "id": "w--fhADKQELs",
    "outputId": "708d1cec-7e0c-4f07-f723-900aab50203c"
   },
   "outputs": [
    {
     "data": {
      "text/plain": [
       "tensor([[ 3,  0,  3,  7,  0, -1, -1, -1, -1, -1],\n",
       "        [ 0,  4,  8,  0,  1,  0,  0,  0,  0,  0]], device='cuda:0')"
      ]
     },
     "execution_count": 52,
     "metadata": {},
     "output_type": "execute_result"
    }
   ],
   "source": [
    "labels"
   ]
  },
  {
   "cell_type": "code",
   "execution_count": 53,
   "metadata": {
    "colab": {
     "base_uri": "https://localhost:8080/"
    },
    "execution": {
     "iopub.execute_input": "2022-11-21T10:58:55.092528Z",
     "iopub.status.busy": "2022-11-21T10:58:55.092156Z",
     "iopub.status.idle": "2022-11-21T10:58:55.107545Z",
     "shell.execute_reply": "2022-11-21T10:58:55.106344Z",
     "shell.execute_reply.started": "2022-11-21T10:58:55.092488Z"
    },
    "id": "yFeX0AYKlhGk",
    "outputId": "3c5a0193-2caf-4d7c-f02f-272b91e0f6f4"
   },
   "outputs": [
    {
     "name": "stdout",
     "output_type": "stream",
     "text": [
      "Тесты пройдены!\n"
     ]
    }
   ],
   "source": [
    "train_tokens, train_labels = next(iter(\n",
    "    torch.utils.data.DataLoader(\n",
    "        train_dataset,\n",
    "        batch_size=2,\n",
    "        shuffle=False,\n",
    "        collate_fn=collator,\n",
    "    )\n",
    "))\n",
    "assert torch.equal(train_tokens, torch.tensor([[ 2,  1,  3,  4,  5,  6,  7,  8,  9], [10, 11,  0,  0,  0,  0,  0,  0,  0]])), \"Похоже на ошибку в коллаторе\"\n",
    "assert torch.equal(train_labels, torch.tensor([[ 3,  0,  2,  0,  0,  0,  2,  0,  0], [ 4,  8, -1, -1, -1, -1, -1, -1, -1]])), \"Похоже на ошибку в коллаторе\"\n",
    "\n",
    "valid_tokens, valid_labels = next(iter(\n",
    "    torch.utils.data.DataLoader(\n",
    "        valid_dataset,\n",
    "        batch_size=2,\n",
    "        shuffle=False,\n",
    "        collate_fn=collator,\n",
    "    )\n",
    "))\n",
    "assert torch.equal(valid_tokens, torch.tensor([[ 1737,   571,  1777,   197,   687,   145,   349,   111,  1819,  1558, 9], [  248, 10679,     0,     0,     0,     0,     0,     0,     0,     0,    0]])), \"Похоже на ошибку в коллаторе\"\n",
    "assert torch.equal(valid_labels, torch.tensor([[ 0,  0,  3,  0,  0,  0,  0,  0,  0,  0,  0], [ 1,  0, -1, -1, -1, -1, -1, -1, -1, -1, -1]])), \"Похоже на ошибку в коллаторе\"\n",
    "\n",
    "test_tokens, test_labels = next(iter(\n",
    "    torch.utils.data.DataLoader(\n",
    "        test_dataset,\n",
    "        batch_size=2,\n",
    "        shuffle=False,\n",
    "        collate_fn=collator,\n",
    "    )\n",
    "))\n",
    "assert torch.equal(test_tokens, torch.tensor([[1516,  571, 1434, 1729, 4893, 2014,   67,  310,  215, 3157, 3139,    9], [   1,    1,    0,    0,    0,    0,    0,    0,    0,    0,    0,    0]])), \"Похоже на ошибку в коллаторе\"\n",
    "assert torch.equal(test_labels, torch.tensor([[ 0,  0,  1,  0,  0,  0,  0,  4,  0,  0,  0,  0], [ 4,  8, -1, -1, -1, -1, -1, -1, -1, -1, -1, -1]])), \"Похоже на ошибку в коллаторе\"\n",
    "\n",
    "print(\"Тесты пройдены!\")"
   ]
  },
  {
   "cell_type": "markdown",
   "metadata": {
    "id": "1Ul5gLriQELs"
   },
   "source": [
    "## Часть 2. BiLSTM-теггер (6 баллов)\n",
    "\n",
    "Определите архитектуру сети, используя библиотеку PyTorch. \n",
    "\n",
    "Ваша архитектура в этом пункте должна соответствовать стандартному теггеру:\n",
    "* Embedding слой на входе\n",
    "* LSTM (однонаправленный или двунаправленный)слой для обработки последовательности\n",
    "* Dropout (заданный отдельно или встроенный в LSTM) для уменьшения переобучения\n",
    "* Linear слой на выходе\n",
    "\n",
    "Для обучения сети используйте поэлементную кросс-энтропийную функцию потерь.\n",
    "\n",
    "**Обратите внимание**, что `<PAD>` токены не должны учавствовать в подсчёте функции потерь. В качестве оптимизатора рекомендуется использовать Adam. Для получения значений предсказаний по выходам модели используйте функцию `argmax`.\n",
    "\n",
    "**Задание. Реализуйте класс модели BiLSTM.** **<font color='red'>(2 балл)</font>**"
   ]
  },
  {
   "cell_type": "code",
   "execution_count": 54,
   "metadata": {
    "execution": {
     "iopub.execute_input": "2022-11-21T10:58:55.109974Z",
     "iopub.status.busy": "2022-11-21T10:58:55.109552Z",
     "iopub.status.idle": "2022-11-21T10:58:55.122000Z",
     "shell.execute_reply": "2022-11-21T10:58:55.120903Z",
     "shell.execute_reply.started": "2022-11-21T10:58:55.109940Z"
    },
    "id": "uMiLQljZQELt"
   },
   "outputs": [],
   "source": [
    "class BiLSTM(torch.nn.Module):\n",
    "    \"\"\"\n",
    "    Bidirectional LSTM architecture.\n",
    "    \"\"\"\n",
    "\n",
    "    def __init__(\n",
    "        self,\n",
    "        num_embeddings: int,\n",
    "        embedding_dim: int,\n",
    "        hidden_size: int,\n",
    "        num_layers: int,\n",
    "        dropout: float,\n",
    "        bidirectional: bool,\n",
    "        n_classes: int,\n",
    "    ):\n",
    "        super().__init__()\n",
    "        \n",
    "        # YOUR CODE HERE\n",
    "        if bidirectional:\n",
    "            self.head = torch.nn.Linear(hidden_size * 2, n_classes)\n",
    "        else:\n",
    "            self.head = torch.nn.Linear(hidden_size, n_classes)\n",
    "            \n",
    "        self.embedding = torch.nn.Embedding(\n",
    "            num_embeddings=num_embeddings,\n",
    "            embedding_dim=embedding_dim\n",
    "        )\n",
    "        \n",
    "        self.rnn = torch.nn.LSTM(\n",
    "            input_size=embedding_dim,\n",
    "            hidden_size=hidden_size,\n",
    "            num_layers=num_layers,\n",
    "            batch_first=True,\n",
    "            bidirectional=bidirectional,\n",
    "            dropout=dropout\n",
    "        )\n",
    "\n",
    "    def forward(self, tokens: torch.LongTensor) -> torch.Tensor:\n",
    "        embed = self.embedding(tokens)\n",
    "\n",
    "        # используем специальную функцию pack_padded_sequence для того, чтобы получить структуру PackedSequence\n",
    "        # которая не учитывать паддинг при проходе rnn\n",
    "        length = (tokens != 0).sum(dim=1).detach().cpu()\n",
    "        packed_embed = torch.nn.utils.rnn.pack_padded_sequence(\n",
    "            embed, length, batch_first=True, enforce_sorted=False\n",
    "          )\n",
    "        \n",
    "        # используем специальную функцию pad_packed_sequence для того, чтобы получить тензор из PackedSequence\n",
    "        packed_rnn_output, _ = self.rnn(packed_embed)\n",
    "        rnn_output, _ = torch.nn.utils.rnn.pad_packed_sequence(\n",
    "            packed_rnn_output, batch_first=True)\n",
    "        \n",
    "        \n",
    "        logits = self.head(rnn_output)\n",
    "        return logits.transpose(1, 2)"
   ]
  },
  {
   "cell_type": "code",
   "execution_count": 55,
   "metadata": {
    "execution": {
     "iopub.execute_input": "2022-11-21T10:58:55.125113Z",
     "iopub.status.busy": "2022-11-21T10:58:55.124122Z",
     "iopub.status.idle": "2022-11-21T10:58:55.952406Z",
     "shell.execute_reply": "2022-11-21T10:58:55.951268Z",
     "shell.execute_reply.started": "2022-11-21T10:58:55.125079Z"
    },
    "id": "zps8HL2VQELu"
   },
   "outputs": [],
   "source": [
    "model = BiLSTM(\n",
    "    num_embeddings=len(token2idx),\n",
    "    embedding_dim=100,\n",
    "    hidden_size=256,\n",
    "    num_layers=2,\n",
    "    dropout=0.2,\n",
    "    bidirectional=True,\n",
    "    n_classes=len(label2idx),\n",
    ").to(device)"
   ]
  },
  {
   "cell_type": "code",
   "execution_count": 56,
   "metadata": {
    "colab": {
     "base_uri": "https://localhost:8080/"
    },
    "execution": {
     "iopub.execute_input": "2022-11-21T10:58:55.959807Z",
     "iopub.status.busy": "2022-11-21T10:58:55.957361Z",
     "iopub.status.idle": "2022-11-21T10:58:55.970632Z",
     "shell.execute_reply": "2022-11-21T10:58:55.969466Z",
     "shell.execute_reply.started": "2022-11-21T10:58:55.959768Z"
    },
    "id": "nmg2_C_oQELu",
    "outputId": "cc700776-3bbe-43a3-d0db-049ad74965e1"
   },
   "outputs": [
    {
     "data": {
      "text/plain": [
       "BiLSTM(\n",
       "  (head): Linear(in_features=512, out_features=9, bias=True)\n",
       "  (embedding): Embedding(10952, 100)\n",
       "  (rnn): LSTM(100, 256, num_layers=2, batch_first=True, dropout=0.2, bidirectional=True)\n",
       ")"
      ]
     },
     "execution_count": 56,
     "metadata": {},
     "output_type": "execute_result"
    }
   ],
   "source": [
    "model"
   ]
  },
  {
   "cell_type": "code",
   "execution_count": 57,
   "metadata": {
    "execution": {
     "iopub.execute_input": "2022-11-21T10:58:55.977040Z",
     "iopub.status.busy": "2022-11-21T10:58:55.972988Z",
     "iopub.status.idle": "2022-11-21T10:58:55.984136Z",
     "shell.execute_reply": "2022-11-21T10:58:55.983146Z",
     "shell.execute_reply.started": "2022-11-21T10:58:55.977007Z"
    },
    "id": "sDvWB5J2QELv"
   },
   "outputs": [],
   "source": [
    "optimizer = torch.optim.Adam(model.parameters(), lr=1e-4)\n",
    "criterion = torch.nn.CrossEntropyLoss(ignore_index=-1)"
   ]
  },
  {
   "cell_type": "code",
   "execution_count": 58,
   "metadata": {
    "execution": {
     "iopub.execute_input": "2022-11-21T10:58:55.991854Z",
     "iopub.status.busy": "2022-11-21T10:58:55.989139Z",
     "iopub.status.idle": "2022-11-21T10:58:57.137311Z",
     "shell.execute_reply": "2022-11-21T10:58:57.136270Z",
     "shell.execute_reply.started": "2022-11-21T10:58:55.991818Z"
    },
    "id": "Jn5Pu1UKQELv"
   },
   "outputs": [],
   "source": [
    "outputs = model(tokens)"
   ]
  },
  {
   "cell_type": "code",
   "execution_count": 59,
   "metadata": {
    "colab": {
     "base_uri": "https://localhost:8080/"
    },
    "execution": {
     "iopub.execute_input": "2022-11-21T10:58:57.147724Z",
     "iopub.status.busy": "2022-11-21T10:58:57.145429Z",
     "iopub.status.idle": "2022-11-21T10:58:57.164392Z",
     "shell.execute_reply": "2022-11-21T10:58:57.163487Z",
     "shell.execute_reply.started": "2022-11-21T10:58:57.147687Z"
    },
    "id": "n02Bsh8eQELw",
    "outputId": "6b704a7d-2cc9-49b0-a260-d4f6f52d2405"
   },
   "outputs": [
    {
     "name": "stdout",
     "output_type": "stream",
     "text": [
      "Тесты пройдены!\n"
     ]
    }
   ],
   "source": [
    "assert outputs.shape == torch.Size([2, 9, 10])\n",
    "assert 2 < criterion(outputs, labels) < 3\n",
    "\n",
    "print(\"Тесты пройдены!\")"
   ]
  },
  {
   "cell_type": "markdown",
   "metadata": {
    "id": "kjhkK9QFQELu"
   },
   "source": [
    "### Эксперименты\n",
    "\n",
    "Проведите эксперименты на данных. Настраивайте параметры по валидационной выборке, не используя тестовую. Ваше цель — настроить сеть так, чтобы качество модели по F1-macro мере на валидационной и тестовой выборках было не меньше 0.76. \n",
    "\n",
    "Сделайте выводы о качестве модели, переобучении, чувствительности архитектуры к выбору гиперпараметров. Оформите результаты экспериментов в виде мини-отчета (в этом же ipython notebook)."
   ]
  },
  {
   "cell_type": "code",
   "execution_count": 60,
   "metadata": {
    "execution": {
     "iopub.execute_input": "2022-11-21T10:58:57.170937Z",
     "iopub.status.busy": "2022-11-21T10:58:57.168566Z",
     "iopub.status.idle": "2022-11-21T10:58:59.011242Z",
     "shell.execute_reply": "2022-11-21T10:58:59.010309Z",
     "shell.execute_reply.started": "2022-11-21T10:58:57.170900Z"
    },
    "id": "f4hdrFZ9iRPi"
   },
   "outputs": [],
   "source": [
    "# создадим SummaryWriter для эксперимента с BiLSTMModel\n",
    "\n",
    "from torch.utils.tensorboard import SummaryWriter\n",
    "\n",
    "writer = SummaryWriter(log_dir=f\"logs/BiLSTMModel\")"
   ]
  },
  {
   "cell_type": "markdown",
   "metadata": {
    "id": "ruMTBSkQQELx"
   },
   "source": [
    "**Задание. Реализуйте функцию подсчета метрик compute_metrics.** **<font color='red'>(1 балл)</font>**"
   ]
  },
  {
   "cell_type": "code",
   "execution_count": 61,
   "metadata": {
    "execution": {
     "iopub.execute_input": "2022-11-21T10:58:59.013276Z",
     "iopub.status.busy": "2022-11-21T10:58:59.012914Z",
     "iopub.status.idle": "2022-11-21T10:58:59.276024Z",
     "shell.execute_reply": "2022-11-21T10:58:59.274896Z",
     "shell.execute_reply.started": "2022-11-21T10:58:59.013239Z"
    }
   },
   "outputs": [],
   "source": [
    "from sklearn.metrics import accuracy_score, precision_score, recall_score, f1_score\n",
    "\n",
    "\n",
    "def compute_metrics(\n",
    "    outputs: torch.Tensor,\n",
    "    labels: torch.LongTensor,\n",
    ") -> Dict[str, float]:\n",
    "    \"\"\"\n",
    "    Compute NER metrics.\n",
    "    \"\"\"\n",
    "\n",
    "    metrics = {}\n",
    "\n",
    "    # YOUR CODE HERE\n",
    "    # Не забудюте отфильтровать <PAD> токен\n",
    "    \n",
    "    y_true = labels[labels != -1].cpu()\n",
    "    y_pred = torch.argmax(outputs, dim=1)[labels != -1].cpu()\n",
    "\n",
    "    # accuracy\n",
    "    accuracy = accuracy_score(\n",
    "        y_true=y_true,\n",
    "        y_pred=y_pred,\n",
    "    )\n",
    "\n",
    "    # precision\n",
    "    precision_micro = precision_score(\n",
    "        y_true=y_true,\n",
    "        y_pred=y_pred,\n",
    "        average=\"micro\",\n",
    "        zero_division=0,\n",
    "    )\n",
    "    precision_macro = precision_score(\n",
    "        y_true=y_true,\n",
    "        y_pred=y_pred,\n",
    "        average=\"macro\",\n",
    "        zero_division=0,\n",
    "    )\n",
    "    precision_weighted = precision_score(\n",
    "        y_true=y_true,\n",
    "        y_pred=y_pred,\n",
    "        average=\"weighted\",\n",
    "        zero_division=0,\n",
    "    )\n",
    "\n",
    "    # recall\n",
    "    recall_micro = recall_score(\n",
    "        y_true=y_true,\n",
    "        y_pred=y_pred,\n",
    "        average=\"micro\",\n",
    "        zero_division=0,\n",
    "        \n",
    "    )\n",
    "    recall_macro = recall_score(\n",
    "        y_true=y_true,\n",
    "        y_pred=y_pred,\n",
    "        average=\"macro\",\n",
    "        zero_division=0,\n",
    "    )\n",
    "    recall_weighted = recall_score(\n",
    "        y_true=y_true,\n",
    "        y_pred=y_pred,\n",
    "        average=\"weighted\",\n",
    "        zero_division=0,\n",
    "    )\n",
    "\n",
    "    # f1\n",
    "    f1_micro = f1_score(\n",
    "        y_true=y_true,\n",
    "        y_pred=y_pred,\n",
    "        average=\"micro\",\n",
    "        zero_division=0,\n",
    "    )\n",
    "    f1_macro = f1_score(\n",
    "        y_true=y_true,\n",
    "        y_pred=y_pred,\n",
    "        average=\"macro\",\n",
    "        zero_division=0,\n",
    "    )\n",
    "    f1_weighted = f1_score(\n",
    "        y_true=y_true,\n",
    "        y_pred=y_pred,\n",
    "        average=\"weighted\",\n",
    "        zero_division=0,\n",
    "    )\n",
    "\n",
    "    metrics[\"accuracy\"] = accuracy\n",
    "\n",
    "    metrics[\"precision_micro\"]    = precision_micro\n",
    "    metrics[\"precision_macro\"]    = precision_macro\n",
    "    metrics[\"precision_weighted\"] = precision_weighted\n",
    "\n",
    "    metrics[\"recall_micro\"]    = recall_micro\n",
    "    metrics[\"recall_macro\"]    = recall_macro\n",
    "    metrics[\"recall_weighted\"] = recall_weighted\n",
    "\n",
    "    metrics[\"f1_micro\"]    = f1_micro\n",
    "    metrics[\"f1_macro\"]    = f1_macro\n",
    "    metrics[\"f1_weighted\"] = f1_weighted\n",
    "\n",
    "    return metrics"
   ]
  },
  {
   "cell_type": "markdown",
   "metadata": {
    "id": "Dzj89UygQEL0"
   },
   "source": [
    "**Задание. Реализуйте функции обучения и тестирования train_epoch и evaluate_epoch.** **<font color='red'>(2 балла)</font>**"
   ]
  },
  {
   "cell_type": "code",
   "execution_count": 218,
   "metadata": {
    "execution": {
     "iopub.execute_input": "2022-11-21T12:10:24.721834Z",
     "iopub.status.busy": "2022-11-21T12:10:24.721486Z",
     "iopub.status.idle": "2022-11-21T12:10:24.736648Z",
     "shell.execute_reply": "2022-11-21T12:10:24.735675Z",
     "shell.execute_reply.started": "2022-11-21T12:10:24.721806Z"
    },
    "id": "sG3vQbc_QEL0"
   },
   "outputs": [],
   "source": [
    "def train_epoch(\n",
    "    model: torch.nn.Module,\n",
    "    dataloader: torch.utils.data.DataLoader,\n",
    "    optimizer: torch.optim.Optimizer,\n",
    "    criterion: torch.nn.Module,\n",
    "    writer: SummaryWriter,\n",
    "    device: torch.device,\n",
    "    epoch: int,\n",
    ") -> None:\n",
    "    \"\"\"\n",
    "    One training cycle (loop).\n",
    "    \"\"\"\n",
    "\n",
    "    model.train()\n",
    "\n",
    "    epoch_loss = []\n",
    "    batch_metrics_list = defaultdict(list)\n",
    "\n",
    "    for i, (tokens, labels) in tqdm(\n",
    "        enumerate(dataloader),\n",
    "        total=len(dataloader),\n",
    "        desc=\"loop over train batches\",\n",
    "    ):\n",
    "\n",
    "        tokens, labels = tokens.to(device), labels.to(device)\n",
    "\n",
    "        # YOUR CODE HERE\n",
    "        # Подсчет лосса и шаг оптимизатора\n",
    "        optimizer.zero_grad()\n",
    "        if isinstance(model, BiLSTM):\n",
    "            outputs = model(tokens)\n",
    "        else:\n",
    "            outputs = model(**tokens)[\"logits\"].transpose(1, 2)\n",
    "        \n",
    "        loss = criterion(outputs, labels)\n",
    "        loss.backward()\n",
    "        optimizer.step()\n",
    "\n",
    "        epoch_loss.append(loss.item())\n",
    "        writer.add_scalar(\n",
    "            \"batch loss / train\", loss.item(), epoch * len(dataloader) + i\n",
    "        )\n",
    "\n",
    "        with torch.no_grad():\n",
    "            model.eval()\n",
    "            \n",
    "            # YOUR CODE HERE\n",
    "            if isinstance(model, BiLSTM):\n",
    "                outputs_inference = model(tokens)\n",
    "            else:\n",
    "                outputs_inference = model(**tokens)[\"logits\"].transpose(1, 2)\n",
    "            model.train()\n",
    "\n",
    "        batch_metrics = compute_metrics(\n",
    "            outputs=outputs_inference,\n",
    "            labels=labels,\n",
    "        )\n",
    "\n",
    "        for metric_name, metric_value in batch_metrics.items():\n",
    "            batch_metrics_list[metric_name].append(metric_value)\n",
    "            writer.add_scalar(\n",
    "                f\"batch {metric_name} / train\",\n",
    "                metric_value,\n",
    "                epoch * len(dataloader) + i,\n",
    "            )\n",
    "\n",
    "    avg_loss = np.mean(epoch_loss)\n",
    "    print(f\"Train loss: {avg_loss}\\n\")\n",
    "    writer.add_scalar(\"loss / train\", avg_loss, epoch)\n",
    "\n",
    "    for metric_name, metric_value_list in batch_metrics_list.items():\n",
    "        metric_value = np.mean(metric_value_list)\n",
    "        print(f\"Train {metric_name}: {metric_value}\\n\")\n",
    "        writer.add_scalar(f\"{metric_name} / train\", metric_value, epoch)"
   ]
  },
  {
   "cell_type": "code",
   "execution_count": 219,
   "metadata": {
    "execution": {
     "iopub.execute_input": "2022-11-21T12:10:33.754608Z",
     "iopub.status.busy": "2022-11-21T12:10:33.754242Z",
     "iopub.status.idle": "2022-11-21T12:10:33.765493Z",
     "shell.execute_reply": "2022-11-21T12:10:33.764371Z",
     "shell.execute_reply.started": "2022-11-21T12:10:33.754576Z"
    },
    "id": "p4ztFogtQEL0"
   },
   "outputs": [],
   "source": [
    "def evaluate_epoch(\n",
    "    model: torch.nn.Module,\n",
    "    dataloader: torch.utils.data.DataLoader,\n",
    "    criterion: torch.nn.Module,\n",
    "    writer: SummaryWriter,\n",
    "    device: torch.device,\n",
    "    epoch: int,\n",
    ") -> None:\n",
    "    \"\"\"\n",
    "    One evaluation cycle (loop).\n",
    "    \"\"\"\n",
    "\n",
    "    model.eval()\n",
    "\n",
    "    epoch_loss = []\n",
    "    batch_metrics_list = defaultdict(list)\n",
    "\n",
    "    with torch.no_grad():\n",
    "\n",
    "        for i, (tokens, labels) in tqdm(\n",
    "            enumerate(dataloader),\n",
    "            total=len(dataloader),\n",
    "            desc=\"loop over test batches\",\n",
    "        ):\n",
    "\n",
    "            tokens, labels = tokens.to(device), labels.to(device)\n",
    "\n",
    "            # YOUR CODE HERE\n",
    "            # Подсчет лосса\n",
    "            if isinstance(model, BiLSTM):\n",
    "                outputs = model(tokens)\n",
    "            else:\n",
    "                outputs = model(**tokens)[\"logits\"].transpose(1, 2)\n",
    "        \n",
    "            loss = criterion(outputs, labels)\n",
    "\n",
    "            epoch_loss.append(loss.item())\n",
    "            writer.add_scalar(\n",
    "                \"batch loss / test\", loss.item(), epoch * len(dataloader) + i\n",
    "            )\n",
    "\n",
    "            batch_metrics = compute_metrics(\n",
    "                outputs=outputs,\n",
    "                labels=labels,\n",
    "            )\n",
    "\n",
    "            for metric_name, metric_value in batch_metrics.items():\n",
    "                batch_metrics_list[metric_name].append(metric_value)\n",
    "                writer.add_scalar(\n",
    "                    f\"batch {metric_name} / test\",\n",
    "                    metric_value,\n",
    "                    epoch * len(dataloader) + i,\n",
    "                )\n",
    "\n",
    "        avg_loss = np.mean(epoch_loss)\n",
    "        print(f\"Test loss:  {avg_loss}\\n\")\n",
    "        writer.add_scalar(\"loss / test\", avg_loss, epoch)\n",
    "\n",
    "        for metric_name, metric_value_list in batch_metrics_list.items():\n",
    "            metric_value = np.mean(metric_value_list)\n",
    "            print(f\"Test {metric_name}: {metric_value}\\n\")\n",
    "            writer.add_scalar(f\"{metric_name} / test\", np.mean(metric_value), epoch)"
   ]
  },
  {
   "cell_type": "code",
   "execution_count": 217,
   "metadata": {
    "execution": {
     "iopub.execute_input": "2022-11-21T12:10:13.285647Z",
     "iopub.status.busy": "2022-11-21T12:10:13.284714Z",
     "iopub.status.idle": "2022-11-21T12:10:13.293446Z",
     "shell.execute_reply": "2022-11-21T12:10:13.292296Z",
     "shell.execute_reply.started": "2022-11-21T12:10:13.285598Z"
    },
    "id": "z7Z5MTNzQEL1"
   },
   "outputs": [],
   "source": [
    "def train(\n",
    "    n_epochs: int,\n",
    "    model: torch.nn.Module,\n",
    "    train_dataloader: torch.utils.data.DataLoader,\n",
    "    test_dataloader: torch.utils.data.DataLoader,\n",
    "    optimizer: torch.optim.Optimizer,\n",
    "    criterion: torch.nn.Module,\n",
    "    writer: SummaryWriter,\n",
    "    device: torch.device,\n",
    ") -> None:\n",
    "    \"\"\"\n",
    "    Training loop.\n",
    "    \"\"\"\n",
    "\n",
    "    for epoch in range(n_epochs):\n",
    "\n",
    "        print(f\"Epoch [{epoch+1} / {n_epochs}]\\n\")\n",
    "\n",
    "        train_epoch(\n",
    "            model=model,\n",
    "            dataloader=train_dataloader,\n",
    "            optimizer=optimizer,\n",
    "            criterion=criterion,\n",
    "            writer=writer,\n",
    "            device=device,\n",
    "            epoch=epoch,\n",
    "        )\n",
    "        evaluate_epoch(\n",
    "            model=model,\n",
    "            dataloader=test_dataloader,\n",
    "            criterion=criterion,\n",
    "            writer=writer,\n",
    "            device=device,\n",
    "            epoch=epoch,\n",
    "        )"
   ]
  },
  {
   "cell_type": "markdown",
   "metadata": {
    "id": "xTxfU0BfQEL1"
   },
   "source": [
    "**Задание. Проведите эксперименты.** **<font color='red'>(2 балла)</font>**\n"
   ]
  },
  {
   "cell_type": "code",
   "execution_count": 66,
   "metadata": {
    "execution": {
     "iopub.execute_input": "2022-11-21T11:00:22.058048Z",
     "iopub.status.busy": "2022-11-21T11:00:22.057691Z",
     "iopub.status.idle": "2022-11-21T11:16:11.272673Z",
     "shell.execute_reply": "2022-11-21T11:16:11.271671Z",
     "shell.execute_reply.started": "2022-11-21T11:00:22.058015Z"
    },
    "id": "yz6mjGZUQEL2"
   },
   "outputs": [
    {
     "name": "stdout",
     "output_type": "stream",
     "text": [
      "Epoch [1 / 6]\n",
      "\n"
     ]
    },
    {
     "name": "stderr",
     "output_type": "stream",
     "text": [
      "loop over train batches: 100%|██████████| 7493/7493 [02:06<00:00, 59.01it/s]\n"
     ]
    },
    {
     "name": "stdout",
     "output_type": "stream",
     "text": [
      "Train loss: 0.35856124379432003\n",
      "\n",
      "Train accuracy: 0.9006380418706544\n",
      "\n",
      "Train precision_micro: 0.9006380418706544\n",
      "\n",
      "Train precision_macro: 0.6241368311160199\n",
      "\n",
      "Train precision_weighted: 0.8641113606804435\n",
      "\n",
      "Train recall_micro: 0.9006380418706544\n",
      "\n",
      "Train recall_macro: 0.6133640645991956\n",
      "\n",
      "Train recall_weighted: 0.9006380418706544\n",
      "\n",
      "Train f1_micro: 0.9006380418706544\n",
      "\n",
      "Train f1_macro: 0.6089195637575956\n",
      "\n",
      "Train f1_weighted: 0.8758234689452177\n",
      "\n"
     ]
    },
    {
     "name": "stderr",
     "output_type": "stream",
     "text": [
      "loop over test batches: 100%|██████████| 3465/3465 [00:33<00:00, 103.00it/s]\n"
     ]
    },
    {
     "name": "stdout",
     "output_type": "stream",
     "text": [
      "Test loss:  0.31433663316488525\n",
      "\n",
      "Test accuracy: 0.9061980882036098\n",
      "\n",
      "Test precision_micro: 0.9061980882036098\n",
      "\n",
      "Test precision_macro: 0.7274134102291853\n",
      "\n",
      "Test precision_weighted: 0.8970254582959802\n",
      "\n",
      "Test recall_micro: 0.9061980882036098\n",
      "\n",
      "Test recall_macro: 0.7282305332850474\n",
      "\n",
      "Test recall_weighted: 0.9061980882036098\n",
      "\n",
      "Test f1_micro: 0.9061980882036098\n",
      "\n",
      "Test f1_macro: 0.7214595577717822\n",
      "\n",
      "Test f1_weighted: 0.8964084650129139\n",
      "\n",
      "Epoch [2 / 6]\n",
      "\n"
     ]
    },
    {
     "name": "stderr",
     "output_type": "stream",
     "text": [
      "loop over train batches: 100%|██████████| 7493/7493 [02:04<00:00, 60.27it/s]\n"
     ]
    },
    {
     "name": "stdout",
     "output_type": "stream",
     "text": [
      "Train loss: 0.2433232950370606\n",
      "\n",
      "Train accuracy: 0.9327291842541149\n",
      "\n",
      "Train precision_micro: 0.9327291842541149\n",
      "\n",
      "Train precision_macro: 0.7324112194857919\n",
      "\n",
      "Train precision_weighted: 0.9168656987031314\n",
      "\n",
      "Train recall_micro: 0.9327291842541149\n",
      "\n",
      "Train recall_macro: 0.7169757740165217\n",
      "\n",
      "Train recall_weighted: 0.9327291842541149\n",
      "\n",
      "Train f1_micro: 0.9327291842541149\n",
      "\n",
      "Train f1_macro: 0.7153401427382191\n",
      "\n",
      "Train f1_weighted: 0.9200709164278837\n",
      "\n"
     ]
    },
    {
     "name": "stderr",
     "output_type": "stream",
     "text": [
      "loop over test batches: 100%|██████████| 3465/3465 [00:32<00:00, 105.54it/s]\n"
     ]
    },
    {
     "name": "stdout",
     "output_type": "stream",
     "text": [
      "Test loss:  0.2646253406519542\n",
      "\n",
      "Test accuracy: 0.9201863453088641\n",
      "\n",
      "Test precision_micro: 0.9201863453088641\n",
      "\n",
      "Test precision_macro: 0.769387089454251\n",
      "\n",
      "Test precision_weighted: 0.8986193222461233\n",
      "\n",
      "Test recall_micro: 0.9201863453088641\n",
      "\n",
      "Test recall_macro: 0.7676574949994109\n",
      "\n",
      "Test recall_weighted: 0.9201863453088641\n",
      "\n",
      "Test f1_micro: 0.9201863453088642\n",
      "\n",
      "Test f1_macro: 0.7621989672918954\n",
      "\n",
      "Test f1_weighted: 0.9039384960002386\n",
      "\n",
      "Epoch [3 / 6]\n",
      "\n"
     ]
    },
    {
     "name": "stderr",
     "output_type": "stream",
     "text": [
      "loop over train batches: 100%|██████████| 7493/7493 [02:03<00:00, 60.70it/s]\n"
     ]
    },
    {
     "name": "stdout",
     "output_type": "stream",
     "text": [
      "Train loss: 0.18181982706520308\n",
      "\n",
      "Train accuracy: 0.9514066252117331\n",
      "\n",
      "Train precision_micro: 0.9514066252117331\n",
      "\n",
      "Train precision_macro: 0.7981632527369595\n",
      "\n",
      "Train precision_weighted: 0.9438484064089612\n",
      "\n",
      "Train recall_micro: 0.9514066252117331\n",
      "\n",
      "Train recall_macro: 0.784263049137254\n",
      "\n",
      "Train recall_weighted: 0.9514066252117331\n",
      "\n",
      "Train f1_micro: 0.9514066252117331\n",
      "\n",
      "Train f1_macro: 0.7829803631084896\n",
      "\n",
      "Train f1_weighted: 0.9439926029354757\n",
      "\n"
     ]
    },
    {
     "name": "stderr",
     "output_type": "stream",
     "text": [
      "loop over test batches: 100%|██████████| 3465/3465 [00:33<00:00, 104.21it/s]\n"
     ]
    },
    {
     "name": "stdout",
     "output_type": "stream",
     "text": [
      "Test loss:  0.22169412501013636\n",
      "\n",
      "Test accuracy: 0.9326226988394828\n",
      "\n",
      "Test precision_micro: 0.9326226988394828\n",
      "\n",
      "Test precision_macro: 0.8045494560077651\n",
      "\n",
      "Test precision_weighted: 0.9226206170108562\n",
      "\n",
      "Test recall_micro: 0.9326226988394828\n",
      "\n",
      "Test recall_macro: 0.8001975986904682\n",
      "\n",
      "Test recall_weighted: 0.9326226988394828\n",
      "\n",
      "Test f1_micro: 0.9326226988394828\n",
      "\n",
      "Test f1_macro: 0.7966811591949831\n",
      "\n",
      "Test f1_weighted: 0.9233210118496307\n",
      "\n",
      "Epoch [4 / 6]\n",
      "\n"
     ]
    },
    {
     "name": "stderr",
     "output_type": "stream",
     "text": [
      "loop over train batches: 100%|██████████| 7493/7493 [02:05<00:00, 59.75it/s]\n"
     ]
    },
    {
     "name": "stdout",
     "output_type": "stream",
     "text": [
      "Train loss: 0.1375909947816758\n",
      "\n",
      "Train accuracy: 0.9644068862975376\n",
      "\n",
      "Train precision_micro: 0.9644068862975376\n",
      "\n",
      "Train precision_macro: 0.8472533891208237\n",
      "\n",
      "Train precision_weighted: 0.9604838496123804\n",
      "\n",
      "Train recall_micro: 0.9644068862975376\n",
      "\n",
      "Train recall_macro: 0.8361995478795917\n",
      "\n",
      "Train recall_weighted: 0.9644068862975376\n",
      "\n",
      "Train f1_micro: 0.9644068862975376\n",
      "\n",
      "Train f1_macro: 0.8347796768562322\n",
      "\n",
      "Train f1_weighted: 0.9596209858422764\n",
      "\n"
     ]
    },
    {
     "name": "stderr",
     "output_type": "stream",
     "text": [
      "loop over test batches: 100%|██████████| 3465/3465 [00:33<00:00, 103.43it/s]\n"
     ]
    },
    {
     "name": "stdout",
     "output_type": "stream",
     "text": [
      "Test loss:  0.21874861426346875\n",
      "\n",
      "Test accuracy: 0.9357840265488646\n",
      "\n",
      "Test precision_micro: 0.9357840265488646\n",
      "\n",
      "Test precision_macro: 0.8209209667125233\n",
      "\n",
      "Test precision_weighted: 0.9355532782087189\n",
      "\n",
      "Test recall_micro: 0.9357840265488646\n",
      "\n",
      "Test recall_macro: 0.8183477571530945\n",
      "\n",
      "Test recall_weighted: 0.9357840265488646\n",
      "\n",
      "Test f1_micro: 0.9357840265488646\n",
      "\n",
      "Test f1_macro: 0.8143852677539652\n",
      "\n",
      "Test f1_weighted: 0.9319214869807645\n",
      "\n",
      "Epoch [5 / 6]\n",
      "\n"
     ]
    },
    {
     "name": "stderr",
     "output_type": "stream",
     "text": [
      "loop over train batches: 100%|██████████| 7493/7493 [02:05<00:00, 59.78it/s]\n"
     ]
    },
    {
     "name": "stdout",
     "output_type": "stream",
     "text": [
      "Train loss: 0.10347072996558981\n",
      "\n",
      "Train accuracy: 0.9743016081101333\n",
      "\n",
      "Train precision_micro: 0.9743016081101333\n",
      "\n",
      "Train precision_macro: 0.885420861534684\n",
      "\n",
      "Train precision_weighted: 0.9722040229320934\n",
      "\n",
      "Train recall_micro: 0.9743016081101333\n",
      "\n",
      "Train recall_macro: 0.8776517701038773\n",
      "\n",
      "Train recall_weighted: 0.9743016081101333\n",
      "\n",
      "Train f1_micro: 0.9743016081101333\n",
      "\n",
      "Train f1_macro: 0.8759171558905869\n",
      "\n",
      "Train f1_weighted: 0.9711843992571924\n",
      "\n"
     ]
    },
    {
     "name": "stderr",
     "output_type": "stream",
     "text": [
      "loop over test batches: 100%|██████████| 3465/3465 [00:33<00:00, 104.23it/s]\n"
     ]
    },
    {
     "name": "stdout",
     "output_type": "stream",
     "text": [
      "Test loss:  0.19822958550754832\n",
      "\n",
      "Test accuracy: 0.9439524678165461\n",
      "\n",
      "Test precision_micro: 0.9439524678165461\n",
      "\n",
      "Test precision_macro: 0.8383332140151788\n",
      "\n",
      "Test precision_weighted: 0.9378354962766025\n",
      "\n",
      "Test recall_micro: 0.9439524678165461\n",
      "\n",
      "Test recall_macro: 0.8363600430774994\n",
      "\n",
      "Test recall_weighted: 0.9439524678165461\n",
      "\n",
      "Test f1_micro: 0.9439524678165461\n",
      "\n",
      "Test f1_macro: 0.8321968639417292\n",
      "\n",
      "Test f1_weighted: 0.9373441202051208\n",
      "\n",
      "Epoch [6 / 6]\n",
      "\n"
     ]
    },
    {
     "name": "stderr",
     "output_type": "stream",
     "text": [
      "loop over train batches: 100%|██████████| 7493/7493 [02:04<00:00, 60.30it/s]\n"
     ]
    },
    {
     "name": "stdout",
     "output_type": "stream",
     "text": [
      "Train loss: 0.07684350830280273\n",
      "\n",
      "Train accuracy: 0.9823573499769802\n",
      "\n",
      "Train precision_micro: 0.9823573499769802\n",
      "\n",
      "Train precision_macro: 0.9179964511850498\n",
      "\n",
      "Train precision_weighted: 0.9812632214256756\n",
      "\n",
      "Train recall_micro: 0.9823573499769802\n",
      "\n",
      "Train recall_macro: 0.9124209225670955\n",
      "\n",
      "Train recall_weighted: 0.9823573499769802\n",
      "\n",
      "Train f1_micro: 0.9823573499769802\n",
      "\n",
      "Train f1_macro: 0.9110154305532986\n",
      "\n",
      "Train f1_weighted: 0.9803710892771462\n",
      "\n"
     ]
    },
    {
     "name": "stderr",
     "output_type": "stream",
     "text": [
      "loop over test batches: 100%|██████████| 3465/3465 [00:32<00:00, 105.63it/s]"
     ]
    },
    {
     "name": "stdout",
     "output_type": "stream",
     "text": [
      "Test loss:  0.20269457638422855\n",
      "\n",
      "Test accuracy: 0.946866026177491\n",
      "\n",
      "Test precision_micro: 0.946866026177491\n",
      "\n",
      "Test precision_macro: 0.8419287513303584\n",
      "\n",
      "Test precision_weighted: 0.941506948120922\n",
      "\n",
      "Test recall_micro: 0.946866026177491\n",
      "\n",
      "Test recall_macro: 0.8377598273502556\n",
      "\n",
      "Test recall_weighted: 0.946866026177491\n",
      "\n",
      "Test f1_micro: 0.946866026177491\n",
      "\n",
      "Test f1_macro: 0.8349543596686957\n",
      "\n",
      "Test f1_weighted: 0.9406957232273234\n",
      "\n"
     ]
    },
    {
     "name": "stderr",
     "output_type": "stream",
     "text": [
      "\n"
     ]
    }
   ],
   "source": [
    "# YOUR CODE HERE\n",
    "train(\n",
    "    n_epochs=6,\n",
    "    model=model,\n",
    "    train_dataloader=train_dataloader,\n",
    "    test_dataloader=valid_dataloader,\n",
    "    optimizer=optimizer,\n",
    "    criterion=criterion,\n",
    "    writer=writer,\n",
    "    device=device\n",
    ")"
   ]
  },
  {
   "cell_type": "code",
   "execution_count": 67,
   "metadata": {
    "execution": {
     "iopub.execute_input": "2022-11-21T11:19:35.697814Z",
     "iopub.status.busy": "2022-11-21T11:19:35.697107Z",
     "iopub.status.idle": "2022-11-21T11:20:10.973988Z",
     "shell.execute_reply": "2022-11-21T11:20:10.970950Z",
     "shell.execute_reply.started": "2022-11-21T11:19:35.697779Z"
    }
   },
   "outputs": [
    {
     "name": "stderr",
     "output_type": "stream",
     "text": [
      "loop over test batches: 100%|██████████| 3683/3683 [00:35<00:00, 104.46it/s]"
     ]
    },
    {
     "name": "stdout",
     "output_type": "stream",
     "text": [
      "Test loss:  0.35693929639381144\n",
      "\n",
      "Test accuracy: 0.9124723955696625\n",
      "\n",
      "Test precision_micro: 0.9124723955696625\n",
      "\n",
      "Test precision_macro: 0.7925212512639719\n",
      "\n",
      "Test precision_weighted: 0.9018743244236785\n",
      "\n",
      "Test recall_micro: 0.9124723955696625\n",
      "\n",
      "Test recall_macro: 0.7932219620402826\n",
      "\n",
      "Test recall_weighted: 0.9124723955696625\n",
      "\n",
      "Test f1_micro: 0.9124723955696625\n",
      "\n",
      "Test f1_macro: 0.7874315363945673\n",
      "\n",
      "Test f1_weighted: 0.9024803734724177\n",
      "\n"
     ]
    },
    {
     "name": "stderr",
     "output_type": "stream",
     "text": [
      "\n"
     ]
    }
   ],
   "source": [
    "evaluate_epoch(\n",
    "    model=model,\n",
    "    dataloader=test_dataloader,\n",
    "    criterion=criterion,\n",
    "    writer=writer,\n",
    "    device=device,\n",
    "    epoch=6\n",
    ")"
   ]
  },
  {
   "cell_type": "markdown",
   "metadata": {},
   "source": [
    "**Отчет**\n",
    "\n",
    "Оптимальное число эпох - 5-7, это достаточно небольшое число помогает избежать переобучения.\n",
    "Добавление дополнительного внутреннего слоя, увеличнение размерности внутреннего слоя и добавление дропаута с вероятностью 0.2 значительно улучшаяет результаты, позволяя побить бейзлайн. Наибольшее влияние имеет увеличение размерности внутреннего слоя. Однако довольно большая разница в количестве параметров дает сравнительно небольшой прирост в качестве f1_macro.\n",
    "\n",
    "**Результат**\n",
    "\n",
    "Валидация - Test f1_macro: 0.8349543596686957\n",
    "\n",
    "Тест - Test f1_macro: 0.7874315363945673"
   ]
  },
  {
   "cell_type": "markdown",
   "metadata": {
    "id": "H8R6nopyQEL-"
   },
   "source": [
    "## Часть 3. Transformers-теггер (6 баллов)\n",
    "\n",
    "В данной части задания нужно сделать все то же самое, но с использованием модели на базе архитектуры Transformer, а именно предлагается дообучать предобученную модель **BERT**.\n",
    "\n",
    "Для данной модели подразумевается специальная подготовка данных, с чего мы и начнем:"
   ]
  },
  {
   "cell_type": "markdown",
   "metadata": {
    "id": "SrbX5gFDQEL-"
   },
   "source": [
    "Модель **BERT** использует специальный токенизатор WordPiece для разбиения предложений на токены. Готовая предобученная версия такого токенизатора существует в библиотеке **transformers**. Есть два класса: `BertTokenizer` и `BertTokenizerFast`. Использовать можно любой, но второй вариант работает существенно быстрее.\n",
    "\n",
    "Токенизаторы можно обучать с нуля на своем корпусе данных, а можно подгружать уже готовые. Готовые токенизаторы, как правило, соответствуют предобученной конфигурации модели, которая использует словарь из этого токенизатора. \n",
    "\n",
    "Мы будем использовать базовую конфигурацию предобученного **BERT** для модели и токенизатора.\n",
    "\n",
    "P.S. Часто приходится проводить эксперименты с моделями разной архитектуры, например **BERT** и **GPT**, поэтому удобно использовать класс `AutoTokenizer`, который по названию модели сам определит, какой класс нужен для инициализации токенизатора."
   ]
  },
  {
   "cell_type": "code",
   "execution_count": 68,
   "metadata": {
    "execution": {
     "iopub.execute_input": "2022-11-21T11:26:44.642175Z",
     "iopub.status.busy": "2022-11-21T11:26:44.641824Z",
     "iopub.status.idle": "2022-11-21T11:26:45.055811Z",
     "shell.execute_reply": "2022-11-21T11:26:45.054855Z",
     "shell.execute_reply.started": "2022-11-21T11:26:44.642146Z"
    },
    "id": "4-UTiI4gQEL-"
   },
   "outputs": [],
   "source": [
    "from transformers import AutoTokenizer"
   ]
  },
  {
   "cell_type": "code",
   "execution_count": 70,
   "metadata": {
    "execution": {
     "iopub.execute_input": "2022-11-21T11:26:51.317757Z",
     "iopub.status.busy": "2022-11-21T11:26:51.317020Z",
     "iopub.status.idle": "2022-11-21T11:26:51.322626Z",
     "shell.execute_reply": "2022-11-21T11:26:51.321531Z",
     "shell.execute_reply.started": "2022-11-21T11:26:51.317721Z"
    },
    "id": "kSbBhvnDQEMA"
   },
   "outputs": [],
   "source": [
    "model_name = \"distilbert-base-cased\""
   ]
  },
  {
   "cell_type": "markdown",
   "metadata": {
    "id": "kxWNX5i6QEMA"
   },
   "source": [
    "Подгружение предобученных моделей и токенизаторов в **huggingface** происходит с помощью конструктора **from_pretrained**.\n",
    "\n",
    "В данном конструкторе можно указать либо путь к предобученному токенизатору, либо название предобученной конфигурации, как в нашем случае: тогда **transformers** сам подгрузит нужные параметры:"
   ]
  },
  {
   "cell_type": "code",
   "execution_count": 71,
   "metadata": {
    "execution": {
     "iopub.execute_input": "2022-11-21T11:26:53.268668Z",
     "iopub.status.busy": "2022-11-21T11:26:53.268301Z",
     "iopub.status.idle": "2022-11-21T11:27:00.140685Z",
     "shell.execute_reply": "2022-11-21T11:27:00.139598Z",
     "shell.execute_reply.started": "2022-11-21T11:26:53.268638Z"
    },
    "id": "3tg_bCeaQEMA"
   },
   "outputs": [
    {
     "data": {
      "application/vnd.jupyter.widget-view+json": {
       "model_id": "5671df04a6dd4b52a408492b93c67a0a",
       "version_major": 2,
       "version_minor": 0
      },
      "text/plain": [
       "Downloading:   0%|          | 0.00/29.0 [00:00<?, ?B/s]"
      ]
     },
     "metadata": {},
     "output_type": "display_data"
    },
    {
     "data": {
      "application/vnd.jupyter.widget-view+json": {
       "model_id": "54430d33afb646cca60ca95ecb88f270",
       "version_major": 2,
       "version_minor": 0
      },
      "text/plain": [
       "Downloading:   0%|          | 0.00/411 [00:00<?, ?B/s]"
      ]
     },
     "metadata": {},
     "output_type": "display_data"
    },
    {
     "data": {
      "application/vnd.jupyter.widget-view+json": {
       "model_id": "69caa22e84284cba8ddafc8b56404daa",
       "version_major": 2,
       "version_minor": 0
      },
      "text/plain": [
       "Downloading:   0%|          | 0.00/208k [00:00<?, ?B/s]"
      ]
     },
     "metadata": {},
     "output_type": "display_data"
    },
    {
     "data": {
      "application/vnd.jupyter.widget-view+json": {
       "model_id": "962ef4f342e74d1e9bbcf20f89cb429e",
       "version_major": 2,
       "version_minor": 0
      },
      "text/plain": [
       "Downloading:   0%|          | 0.00/426k [00:00<?, ?B/s]"
      ]
     },
     "metadata": {},
     "output_type": "display_data"
    }
   ],
   "source": [
    "tokenizer = AutoTokenizer.from_pretrained(model_name)"
   ]
  },
  {
   "cell_type": "markdown",
   "metadata": {
    "id": "4MIrbmNoQEMA"
   },
   "source": [
    "### Подготовка словарей\n",
    "\n",
    "В сравнении с рекуррентными моделями, на больше не нужно заниматься сборкой словаря, так как это уже сделано заранее благодаря токенизаторам и алгоритмам, стоящими за ними.\n",
    "\n",
    "Но нам как и прежде потребуется:\n",
    "- {**label**}→{**label_idx**}: соответствие между тегом и уникальным индексом (начинается с 0);\n",
    "\n",
    "Но данное отображение у нас уже реализовано в одной из предыдущих частей задания."
   ]
  },
  {
   "cell_type": "markdown",
   "metadata": {
    "id": "CvYF-4uaQEMB"
   },
   "source": [
    "### Подготовка датасета и загрузчика\n",
    "\n",
    "Мы также хотим обучать модель батчами, поэтому нам как и прежде понадобятся `Dataset`, `Collator` и `DataLoader`.\n",
    "\n",
    "Но мы не можем переиспользовать те, что в предыдущих частях задания, так как обработка данных должна производится немного иначе с использованием токенизатора.\n",
    "\n",
    "Давайте напишем новый кастомный датасет, который на вход (метод `__init__`) будет принимать:\n",
    "- token_seq - список списков слов / токенов\n",
    "- label_seq - список списков тегов\n",
    "\n",
    "и возвращать из метода `__getitem__` два списка:\n",
    "- список текстовых значений (`List[str]`) из индексов токенов в сэмпле\n",
    "- список целочисленных значений (`List[int]`) из индексов соответвующих тегов\n",
    "\n",
    "P.S. В отличие от предыдущего кастомного датасет, здесь мы возвращаем два `List`'а вместо `torch.LongTensor`, так как логику формирования западдированного батча мы перенесем в `Collator` из-за специфики работы токенизатора - он сам возвращает уже западдированный тензор с индексами токенов, а для индексов тегов нам нужно будет сделать это самостоятельно по аналогии с предыдущим датасетом.\n",
    "\n",
    "**Задание. Реализуйте класс датасета TransformersDataset.** **<font color='red'>(1 балл)</font>**"
   ]
  },
  {
   "cell_type": "code",
   "execution_count": 93,
   "metadata": {
    "execution": {
     "iopub.execute_input": "2022-11-21T11:33:37.844301Z",
     "iopub.status.busy": "2022-11-21T11:33:37.843917Z",
     "iopub.status.idle": "2022-11-21T11:33:37.853593Z",
     "shell.execute_reply": "2022-11-21T11:33:37.852496Z",
     "shell.execute_reply.started": "2022-11-21T11:33:37.844269Z"
    },
    "id": "7EoNLDOOQEMB"
   },
   "outputs": [],
   "source": [
    "class TransformersDataset(torch.utils.data.Dataset):\n",
    "    \"\"\"\n",
    "    Transformers Dataset for NER.\n",
    "    \"\"\"\n",
    "\n",
    "    def __init__(\n",
    "        self,\n",
    "        token_seq: List[List[str]],\n",
    "        label_seq: List[List[str]],\n",
    "    ):\n",
    "        self.token_seq = token_seq\n",
    "        self.label_seq = [self.process_labels(labels, label2idx) for labels in label_seq]\n",
    "\n",
    "    def __len__(self):\n",
    "        return len(self.token_seq)\n",
    "\n",
    "    def __getitem__(\n",
    "        self,\n",
    "        idx: int,\n",
    "    ) -> Tuple[List[str], List[int]]:\n",
    "        # YOUR CODE HERE\n",
    "        return self.token_seq[idx], self.label_seq[idx]\n",
    "    \n",
    "    @staticmethod\n",
    "    def process_labels(\n",
    "        labels: List[str],\n",
    "        label2idx: Dict[str, int],\n",
    "    ) -> List[int]:\n",
    "        \"\"\"\n",
    "        Transform list of labels into list of labels' indices.\n",
    "        \"\"\"\n",
    "        # YOUR CODE HERE\n",
    "        return [label2idx[label] for label in labels]"
   ]
  },
  {
   "cell_type": "markdown",
   "metadata": {
    "id": "p1oNc-31QEMB"
   },
   "source": [
    "Создадим три датасета:\n",
    "- *train_dataset*\n",
    "- *valid_dataset*\n",
    "- *test_dataset*"
   ]
  },
  {
   "cell_type": "code",
   "execution_count": 94,
   "metadata": {
    "execution": {
     "iopub.execute_input": "2022-11-21T11:33:40.837787Z",
     "iopub.status.busy": "2022-11-21T11:33:40.837095Z",
     "iopub.status.idle": "2022-11-21T11:33:41.091168Z",
     "shell.execute_reply": "2022-11-21T11:33:41.090223Z",
     "shell.execute_reply.started": "2022-11-21T11:33:40.837752Z"
    },
    "id": "vqg56Jf8QEMC"
   },
   "outputs": [],
   "source": [
    "train_dataset = TransformersDataset(\n",
    "    token_seq=train_token_seq,\n",
    "    label_seq=train_label_seq,\n",
    ")\n",
    "valid_dataset = TransformersDataset(\n",
    "    token_seq=valid_token_seq,\n",
    "    label_seq=valid_label_seq,\n",
    ")\n",
    "test_dataset = TransformersDataset(\n",
    "    token_seq=test_token_seq,\n",
    "    label_seq=test_label_seq,\n",
    ")"
   ]
  },
  {
   "cell_type": "markdown",
   "metadata": {
    "id": "WdIS6XrvQEMC"
   },
   "source": [
    "Посмотрим на то, что мы получили:"
   ]
  },
  {
   "cell_type": "code",
   "execution_count": 95,
   "metadata": {
    "colab": {
     "base_uri": "https://localhost:8080/"
    },
    "execution": {
     "iopub.execute_input": "2022-11-21T11:33:42.973731Z",
     "iopub.status.busy": "2022-11-21T11:33:42.973380Z",
     "iopub.status.idle": "2022-11-21T11:33:42.980682Z",
     "shell.execute_reply": "2022-11-21T11:33:42.979672Z",
     "shell.execute_reply.started": "2022-11-21T11:33:42.973703Z"
    },
    "id": "IT00Pjy6QEMC",
    "outputId": "6bb42a27-08f0-49f5-96f5-52573a1a75af"
   },
   "outputs": [
    {
     "data": {
      "text/plain": [
       "(['eu', 'rejects', 'german', 'call', 'to', 'boycott', 'british', 'lamb', '.'],\n",
       " [3, 0, 2, 0, 0, 0, 2, 0, 0])"
      ]
     },
     "execution_count": 95,
     "metadata": {},
     "output_type": "execute_result"
    }
   ],
   "source": [
    "train_dataset[0]"
   ]
  },
  {
   "cell_type": "code",
   "execution_count": 96,
   "metadata": {
    "colab": {
     "base_uri": "https://localhost:8080/"
    },
    "execution": {
     "iopub.execute_input": "2022-11-21T11:33:44.752633Z",
     "iopub.status.busy": "2022-11-21T11:33:44.752274Z",
     "iopub.status.idle": "2022-11-21T11:33:44.760760Z",
     "shell.execute_reply": "2022-11-21T11:33:44.759683Z",
     "shell.execute_reply.started": "2022-11-21T11:33:44.752602Z"
    },
    "id": "uYal2icQmuD-",
    "outputId": "572bab3f-d53d-46d2-dd6f-367042966062"
   },
   "outputs": [
    {
     "data": {
      "text/plain": [
       "(['cricket',\n",
       "  '-',\n",
       "  'leicestershire',\n",
       "  'take',\n",
       "  'over',\n",
       "  'at',\n",
       "  'top',\n",
       "  'after',\n",
       "  'innings',\n",
       "  'victory',\n",
       "  '.'],\n",
       " [0, 0, 3, 0, 0, 0, 0, 0, 0, 0, 0])"
      ]
     },
     "execution_count": 96,
     "metadata": {},
     "output_type": "execute_result"
    }
   ],
   "source": [
    "valid_dataset[0]"
   ]
  },
  {
   "cell_type": "code",
   "execution_count": 97,
   "metadata": {
    "colab": {
     "base_uri": "https://localhost:8080/"
    },
    "execution": {
     "iopub.execute_input": "2022-11-21T11:33:46.922392Z",
     "iopub.status.busy": "2022-11-21T11:33:46.921293Z",
     "iopub.status.idle": "2022-11-21T11:33:46.929687Z",
     "shell.execute_reply": "2022-11-21T11:33:46.928642Z",
     "shell.execute_reply.started": "2022-11-21T11:33:46.922339Z"
    },
    "id": "FCXd3FWVmuKe",
    "outputId": "e35bfbaf-340f-4fba-cc39-fa84ce632cda"
   },
   "outputs": [
    {
     "data": {
      "text/plain": [
       "(['soccer',\n",
       "  '-',\n",
       "  'japan',\n",
       "  'get',\n",
       "  'lucky',\n",
       "  'win',\n",
       "  ',',\n",
       "  'china',\n",
       "  'in',\n",
       "  'surprise',\n",
       "  'defeat',\n",
       "  '.'],\n",
       " [0, 0, 1, 0, 0, 0, 0, 4, 0, 0, 0, 0])"
      ]
     },
     "execution_count": 97,
     "metadata": {},
     "output_type": "execute_result"
    }
   ],
   "source": [
    "test_dataset[0]"
   ]
  },
  {
   "cell_type": "code",
   "execution_count": 98,
   "metadata": {
    "colab": {
     "base_uri": "https://localhost:8080/"
    },
    "execution": {
     "iopub.execute_input": "2022-11-21T11:33:48.832029Z",
     "iopub.status.busy": "2022-11-21T11:33:48.831670Z",
     "iopub.status.idle": "2022-11-21T11:33:48.842980Z",
     "shell.execute_reply": "2022-11-21T11:33:48.841830Z",
     "shell.execute_reply.started": "2022-11-21T11:33:48.831998Z"
    },
    "id": "B4R605vAnYT9",
    "outputId": "1b6542ed-4520-4093-dddf-f9404e059917"
   },
   "outputs": [
    {
     "name": "stdout",
     "output_type": "stream",
     "text": [
      "Тесты пройдены!\n"
     ]
    }
   ],
   "source": [
    "assert len(train_dataset) == 14986, \"Неправильная длина train_dataset\"\n",
    "assert len(valid_dataset) == 3465, \"Неправильная длина valid_dataset\"\n",
    "assert len(test_dataset) == 3683, \"Неправильная длина test_dataset\"\n",
    "\n",
    "assert train_dataset[0][0] == ['eu', 'rejects', 'german', 'call', 'to', 'boycott', 'british', 'lamb', '.'], \"Неправильно сформированный train_dataset\"\n",
    "assert train_dataset[0][1] == [3,0,2,0,0,0,2,0,0], \"Неправильно сформированный train_dataset\"\n",
    "\n",
    "assert valid_dataset[0][0] == ['cricket', '-', 'leicestershire', 'take', 'over', 'at', 'top', 'after', 'innings', 'victory', '.'], \"Неправильно сформированный valid_dataset\"\n",
    "assert valid_dataset[0][1] == [0,0,3,0,0,0,0,0,0,0,0], \"Неправильно сформированный valid_dataset\"\n",
    "\n",
    "assert test_dataset[0][0] == ['soccer', '-', 'japan', 'get', 'lucky', 'win', ',', 'china', 'in', 'surprise', 'defeat', '.'], \"Неправильно сформированный test_dataset\"\n",
    "assert test_dataset[0][1] == [0,0,1,0,0,0,0,4,0,0,0,0], \"Неправильно сформированный test_dataset\"\n",
    "\n",
    "print(\"Тесты пройдены!\")"
   ]
  },
  {
   "cell_type": "markdown",
   "metadata": {
    "id": "0zP_6iQnQEMC"
   },
   "source": [
    "Реализуем новый `Collator`.\n",
    "\n",
    "Инициализировать коллатор будет 3 аргументами:\n",
    "- токенизатор\n",
    "- параметры токенизатора в виде словаря (затем используем как `**kwargs`)\n",
    "- id спецтокена для последовательностей тегов (значение -1)\n",
    "\n",
    "Метод `__call__` на вход принимает батч, а именно список кортежей того, что нам возвращается из датасета. В нашем случае это список кортежей двух int64 тензоров - `List[Tuple[torch.LongTensor, torch.LongTensor]]`.\n",
    "\n",
    "На выходе мы хотим получить два тензора:\n",
    "- западденные индексы слов / токенов\n",
    "- западденные индексы тегов\n",
    "\n",
    "**Задание. Реализуйте класс коллатора TransformersCollator.** **<font color='red'>(2 балла)</font>**"
   ]
  },
  {
   "cell_type": "code",
   "execution_count": 199,
   "metadata": {
    "execution": {
     "iopub.execute_input": "2022-11-21T11:59:35.776207Z",
     "iopub.status.busy": "2022-11-21T11:59:35.775826Z",
     "iopub.status.idle": "2022-11-21T11:59:35.788016Z",
     "shell.execute_reply": "2022-11-21T11:59:35.787000Z",
     "shell.execute_reply.started": "2022-11-21T11:59:35.776162Z"
    },
    "id": "BonAp65jQEMD"
   },
   "outputs": [],
   "source": [
    "from transformers import PreTrainedTokenizer\n",
    "from transformers.tokenization_utils_base import BatchEncoding\n",
    "\n",
    "\n",
    "class TransformersCollator:\n",
    "    \"\"\"\n",
    "    Transformers Collator that handles variable-size sentences.\n",
    "    \"\"\"\n",
    "\n",
    "    def __init__(\n",
    "        self,\n",
    "        tokenizer: PreTrainedTokenizer,\n",
    "        tokenizer_kwargs: Dict[str, Any],\n",
    "        label_padding_value: int,\n",
    "    ):\n",
    "        self.tokenizer = tokenizer\n",
    "        self.tokenizer_kwargs = tokenizer_kwargs\n",
    "        \n",
    "        self.label_padding_value = label_padding_value\n",
    "\n",
    "    def __call__(\n",
    "        self,\n",
    "        batch: List[Tuple[List[str], List[int]]],\n",
    "    ) -> Tuple[torch.LongTensor, torch.LongTensor]:\n",
    "        tokens, labels = zip(*batch)\n",
    "        \n",
    "        # YOUR CODE HERE\n",
    "        tokens = list(tokens)\n",
    "        labels = list(labels)\n",
    "        tokens = self.tokenizer(tokens, **self.tokenizer_kwargs)\n",
    "        labels = self.encode_labels(tokens, labels, self.label_padding_value)\n",
    "\n",
    "        tokens.pop(\"offset_mapping\")\n",
    "\n",
    "        return tokens, labels\n",
    "    \n",
    "    @staticmethod\n",
    "    def encode_labels(\n",
    "        tokens: BatchEncoding,\n",
    "        labels: List[List[int]],\n",
    "        label_padding_value: int,\n",
    "    ) -> torch.LongTensor:\n",
    "\n",
    "        encoded_labels = []\n",
    "\n",
    "        for doc_labels, doc_offset in zip(labels, tokens.offset_mapping):\n",
    "\n",
    "            doc_enc_labels = np.ones(len(doc_offset), dtype=int) * label_padding_value\n",
    "            arr_offset = np.array(doc_offset)\n",
    "\n",
    "            doc_enc_labels[(arr_offset[:,0] == 0) & (arr_offset[:,1] != 0)] = doc_labels\n",
    "            encoded_labels.append(doc_enc_labels.tolist())\n",
    "\n",
    "        return torch.LongTensor(encoded_labels)"
   ]
  },
  {
   "cell_type": "code",
   "execution_count": 200,
   "metadata": {
    "execution": {
     "iopub.execute_input": "2022-11-21T11:59:38.601884Z",
     "iopub.status.busy": "2022-11-21T11:59:38.601524Z",
     "iopub.status.idle": "2022-11-21T11:59:38.611763Z",
     "shell.execute_reply": "2022-11-21T11:59:38.609737Z",
     "shell.execute_reply.started": "2022-11-21T11:59:38.601847Z"
    },
    "id": "iC8JkUPnQEMD"
   },
   "outputs": [],
   "source": [
    "tokenizer_kwargs = {\n",
    "    \"is_split_into_words\":    True,\n",
    "    \"return_offsets_mapping\": True,\n",
    "    \"padding\":                True,\n",
    "    \"truncation\":             True,\n",
    "    \"max_length\":             512,\n",
    "    \"return_tensors\":         \"pt\",\n",
    "}"
   ]
  },
  {
   "cell_type": "code",
   "execution_count": 201,
   "metadata": {
    "execution": {
     "iopub.execute_input": "2022-11-21T11:59:40.728060Z",
     "iopub.status.busy": "2022-11-21T11:59:40.727697Z",
     "iopub.status.idle": "2022-11-21T11:59:40.732722Z",
     "shell.execute_reply": "2022-11-21T11:59:40.731754Z",
     "shell.execute_reply.started": "2022-11-21T11:59:40.728030Z"
    },
    "id": "5sCDaxR6QEMD"
   },
   "outputs": [],
   "source": [
    "collator = TransformersCollator(\n",
    "    tokenizer=tokenizer,\n",
    "    tokenizer_kwargs=tokenizer_kwargs,\n",
    "    label_padding_value=-1,\n",
    ")"
   ]
  },
  {
   "cell_type": "markdown",
   "metadata": {
    "id": "eirev0N_QEMD"
   },
   "source": [
    "Теперь всё готово, чтобы задать `DataLoader`'ы:"
   ]
  },
  {
   "cell_type": "code",
   "execution_count": 202,
   "metadata": {
    "execution": {
     "iopub.execute_input": "2022-11-21T11:59:42.867848Z",
     "iopub.status.busy": "2022-11-21T11:59:42.867125Z",
     "iopub.status.idle": "2022-11-21T11:59:42.874244Z",
     "shell.execute_reply": "2022-11-21T11:59:42.873157Z",
     "shell.execute_reply.started": "2022-11-21T11:59:42.867806Z"
    },
    "id": "9JDrLC6pQEME"
   },
   "outputs": [],
   "source": [
    "train_dataloader = torch.utils.data.DataLoader(\n",
    "    train_dataset,\n",
    "    batch_size=3,\n",
    "    shuffle=True,\n",
    "    collate_fn=collator,\n",
    ")\n",
    "valid_dataloader = torch.utils.data.DataLoader(\n",
    "    valid_dataset,\n",
    "    batch_size=1,  # для корректных замеров метрик оставить batch_size=1\n",
    "    shuffle=False, # для корректных замеров метрик оставить shuffle=False\n",
    "    collate_fn=collator,\n",
    ")\n",
    "test_dataloader = torch.utils.data.DataLoader(\n",
    "    test_dataset,\n",
    "    batch_size=1,  # для корректных замеров метрик оставить batch_size=1\n",
    "    shuffle=False, # для корректных замеров метрик оставить shuffle=False\n",
    "    collate_fn=collator,\n",
    ")"
   ]
  },
  {
   "cell_type": "markdown",
   "metadata": {
    "id": "v3zGjEDHQEME"
   },
   "source": [
    "Посмотрим на то, что мы получили:"
   ]
  },
  {
   "cell_type": "code",
   "execution_count": 203,
   "metadata": {
    "execution": {
     "iopub.execute_input": "2022-11-21T11:59:45.235599Z",
     "iopub.status.busy": "2022-11-21T11:59:45.234866Z",
     "iopub.status.idle": "2022-11-21T11:59:45.245074Z",
     "shell.execute_reply": "2022-11-21T11:59:45.244046Z",
     "shell.execute_reply.started": "2022-11-21T11:59:45.235563Z"
    },
    "id": "KSWcYEAWQEME"
   },
   "outputs": [],
   "source": [
    "tokens, labels = next(iter(train_dataloader))\n",
    "\n",
    "tokens = tokens.to(device)\n",
    "labels = labels.to(device)"
   ]
  },
  {
   "cell_type": "code",
   "execution_count": 204,
   "metadata": {
    "colab": {
     "base_uri": "https://localhost:8080/"
    },
    "execution": {
     "iopub.execute_input": "2022-11-21T11:59:47.596070Z",
     "iopub.status.busy": "2022-11-21T11:59:47.595095Z",
     "iopub.status.idle": "2022-11-21T11:59:47.607641Z",
     "shell.execute_reply": "2022-11-21T11:59:47.606110Z",
     "shell.execute_reply.started": "2022-11-21T11:59:47.596023Z"
    },
    "id": "NTcdU1BlQEME",
    "outputId": "94ac83e6-a90e-4247-a8c9-46fb487d6d91"
   },
   "outputs": [
    {
     "data": {
      "text/plain": [
       "{'input_ids': tensor([[  101,   118,  1202,  6063,  6817,  1204,   118,   102,     0,     0,\n",
       "             0,     0,     0,     0,     0,     0,     0,     0,     0,     0,\n",
       "             0,     0,     0,     0,     0,     0,     0],\n",
       "        [  101, 16358,  2118,   180,  4553,  1429,   117,  3565,  1527,   119,\n",
       "          3324,   118,  4335,   119,  1492,  1429,   117,  4589,  1527,   119,\n",
       "          4850,  1275,   117, 21355,   119,  5966,   102],\n",
       "        [  101, 20049,  3447,  5727,   124,   121,   122,   123,   123,   125,\n",
       "           122,   102,     0,     0,     0,     0,     0,     0,     0,     0,\n",
       "             0,     0,     0,     0,     0,     0,     0]], device='cuda:0'), 'attention_mask': tensor([[1, 1, 1, 1, 1, 1, 1, 1, 0, 0, 0, 0, 0, 0, 0, 0, 0, 0, 0, 0, 0, 0, 0, 0,\n",
       "         0, 0, 0],\n",
       "        [1, 1, 1, 1, 1, 1, 1, 1, 1, 1, 1, 1, 1, 1, 1, 1, 1, 1, 1, 1, 1, 1, 1, 1,\n",
       "         1, 1, 1],\n",
       "        [1, 1, 1, 1, 1, 1, 1, 1, 1, 1, 1, 1, 0, 0, 0, 0, 0, 0, 0, 0, 0, 0, 0, 0,\n",
       "         0, 0, 0]], device='cuda:0')}"
      ]
     },
     "execution_count": 204,
     "metadata": {},
     "output_type": "execute_result"
    }
   ],
   "source": [
    "tokens"
   ]
  },
  {
   "cell_type": "code",
   "execution_count": 205,
   "metadata": {
    "colab": {
     "base_uri": "https://localhost:8080/"
    },
    "execution": {
     "iopub.execute_input": "2022-11-21T11:59:50.198649Z",
     "iopub.status.busy": "2022-11-21T11:59:50.198268Z",
     "iopub.status.idle": "2022-11-21T11:59:50.211046Z",
     "shell.execute_reply": "2022-11-21T11:59:50.210018Z",
     "shell.execute_reply.started": "2022-11-21T11:59:50.198617Z"
    },
    "id": "p7ZTh97-QEME",
    "outputId": "7eb951ed-2bf6-475a-f799-07551fc3b5c0"
   },
   "outputs": [
    {
     "data": {
      "text/plain": [
       "tensor([[-1,  0, -1, -1, -1, -1, -1, -1, -1, -1, -1, -1, -1, -1, -1, -1, -1, -1,\n",
       "         -1, -1, -1, -1, -1, -1, -1, -1, -1],\n",
       "        [-1,  1, -1,  5, -1,  0, -1, -1, -1, -1, -1,  0,  0, -1, -1,  0, -1, -1,\n",
       "         -1, -1, -1,  0, -1, -1, -1, -1, -1],\n",
       "        [-1,  3, -1, -1,  0,  0,  0,  0,  0,  0,  0, -1, -1, -1, -1, -1, -1, -1,\n",
       "         -1, -1, -1, -1, -1, -1, -1, -1, -1]], device='cuda:0')"
      ]
     },
     "execution_count": 205,
     "metadata": {},
     "output_type": "execute_result"
    }
   ],
   "source": [
    "labels"
   ]
  },
  {
   "cell_type": "code",
   "execution_count": 206,
   "metadata": {
    "colab": {
     "base_uri": "https://localhost:8080/"
    },
    "execution": {
     "iopub.execute_input": "2022-11-21T11:59:53.270945Z",
     "iopub.status.busy": "2022-11-21T11:59:53.270262Z",
     "iopub.status.idle": "2022-11-21T11:59:53.298306Z",
     "shell.execute_reply": "2022-11-21T11:59:53.296869Z",
     "shell.execute_reply.started": "2022-11-21T11:59:53.270910Z"
    },
    "id": "pMprtk9bodM9",
    "outputId": "d93f5b97-fbad-4538-f37f-068c7bbac104"
   },
   "outputs": [
    {
     "name": "stdout",
     "output_type": "stream",
     "text": [
      "Тесты пройдены!\n"
     ]
    }
   ],
   "source": [
    "train_tokens, train_labels = next(iter(\n",
    "    torch.utils.data.DataLoader(\n",
    "        train_dataset,\n",
    "        batch_size=2,\n",
    "        shuffle=False,\n",
    "        collate_fn=collator,\n",
    "    )\n",
    "))\n",
    "assert torch.equal(train_tokens['input_ids'], torch.tensor([[  101,   174,  1358, 22961,   176, 14170,  1840,  1106, 21423,  9304, 10721,  1324,  2495, 12913,   119,   102], [  101, 11109,  1200,  1602,  6715,   102,     0,     0,     0,     0,    0,     0,     0,     0,     0,     0]])), \"Похоже на ошибку в коллаторе\"\n",
    "assert torch.equal(train_tokens['attention_mask'], torch.tensor([[1, 1, 1, 1, 1, 1, 1, 1, 1, 1, 1, 1, 1, 1, 1, 1], [1, 1, 1, 1, 1, 1, 0, 0, 0, 0, 0, 0, 0, 0, 0, 0]])), \"Похоже на ошибку в коллаторе\"\n",
    "assert torch.equal(train_labels, torch.tensor([[-1,  3, -1,  0,  2, -1,  0,  0,  0,  2, -1, -1,  0, -1,  0, -1], [-1,  4, -1,  8, -1, -1, -1, -1, -1, -1, -1, -1, -1, -1, -1, -1]])), \"Похоже на ошибку в коллаторе\"\n",
    "\n",
    "valid_tokens, valid_labels = next(iter(\n",
    "    torch.utils.data.DataLoader(\n",
    "        valid_dataset,\n",
    "        batch_size=2,\n",
    "        shuffle=False,\n",
    "        collate_fn=collator,\n",
    "    )\n",
    "))\n",
    "assert torch.equal(valid_tokens['input_ids'], torch.tensor([[  101,  5428,   118,  5837, 18117,  5759, 15189,  1321,  1166,  1120,  1499,  1170,  6687,  2681,   119,   102], [  101, 25338, 17996,  1820,   118,  4775,   118,  1476,   102,     0,     0,     0,     0,     0,     0,     0]])), \"Похоже на ошибку в коллаторе\"\n",
    "assert torch.equal(valid_tokens['attention_mask'], torch.tensor([[1, 1, 1, 1, 1, 1, 1, 1, 1, 1, 1, 1, 1, 1, 1, 1], [1, 1, 1, 1, 1, 1, 1, 1, 1, 0, 0, 0, 0, 0, 0, 0]])), \"Похоже на ошибку в коллаторе\"\n",
    "assert torch.equal(valid_labels, torch.tensor([[-1,  0,  0,  3, -1, -1, -1,  0,  0,  0,  0,  0,  0,  0,  0, -1], [-1,  1, -1,  0, -1, -1, -1, -1, -1, -1, -1, -1, -1, -1, -1, -1]])), \"Похоже на ошибку в коллаторе\"\n",
    "\n",
    "test_tokens, test_labels = next(iter(\n",
    "    torch.utils.data.DataLoader(\n",
    "        test_dataset,\n",
    "        batch_size=2,\n",
    "        shuffle=False,\n",
    "        collate_fn=collator,\n",
    "    )\n",
    "))\n",
    "assert torch.equal(test_tokens['input_ids'], torch.tensor([[  101,  5862,   118,   179, 26519,  1179,  1243,  6918,  1782,   117,  5144,  1161,  1107,  3774,  3326,   119,   102], [  101,  9468,  3309,  1306, 19122,  2293,   102,     0,     0,     0,     0,     0,     0,     0,     0,     0,     0]])), \"Похоже на ошибку в коллаторе\"\n",
    "assert torch.equal(test_tokens['attention_mask'], torch.tensor([[1, 1, 1, 1, 1, 1, 1, 1, 1, 1, 1, 1, 1, 1, 1, 1, 1], [1, 1, 1, 1, 1, 1, 1, 0, 0, 0, 0, 0, 0, 0, 0, 0, 0]])), \"Похоже на ошибку в коллаторе\"\n",
    "assert torch.equal(test_labels, torch.tensor([[-1,  0,  0,  1, -1, -1,  0,  0,  0,  0,  4, -1,  0,  0,  0,  0, -1], [-1,  4, -1, -1,  8, -1, -1, -1, -1, -1, -1, -1, -1, -1, -1, -1, -1]])), \"Похоже на ошибку в коллаторе\"\n",
    "\n",
    "print(\"Тесты пройдены!\")"
   ]
  },
  {
   "cell_type": "markdown",
   "metadata": {
    "id": "_m-taH0SQEMF"
   },
   "source": [
    "В библиотеке **transformers** есть классы для модели BERT, уже настроенные под решение конкретных задач, с соответствующими головами классификации. Для задачи NER будем использовать класс `BertForTokenClassification`.\n",
    "\n",
    "По аналогии с токенизаторами, мы можем использовать класс `AutoModelForTokenClassification`, который по названию модели сам определит, какой класс нужен для инициализации модели."
   ]
  },
  {
   "cell_type": "code",
   "execution_count": 207,
   "metadata": {
    "execution": {
     "iopub.execute_input": "2022-11-21T11:59:57.063854Z",
     "iopub.status.busy": "2022-11-21T11:59:57.063012Z",
     "iopub.status.idle": "2022-11-21T11:59:57.068699Z",
     "shell.execute_reply": "2022-11-21T11:59:57.067565Z",
     "shell.execute_reply.started": "2022-11-21T11:59:57.063813Z"
    },
    "id": "x6tq_i7JQEMF"
   },
   "outputs": [],
   "source": [
    "from transformers import AutoModelForTokenClassification"
   ]
  },
  {
   "cell_type": "code",
   "execution_count": 208,
   "metadata": {
    "execution": {
     "iopub.execute_input": "2022-11-21T11:59:59.319140Z",
     "iopub.status.busy": "2022-11-21T11:59:59.318790Z",
     "iopub.status.idle": "2022-11-21T12:00:01.677396Z",
     "shell.execute_reply": "2022-11-21T12:00:01.676451Z",
     "shell.execute_reply.started": "2022-11-21T11:59:59.319111Z"
    },
    "id": "Vma9yj0zQEMF"
   },
   "outputs": [
    {
     "name": "stderr",
     "output_type": "stream",
     "text": [
      "Some weights of the model checkpoint at distilbert-base-cased were not used when initializing DistilBertForTokenClassification: ['vocab_transform.weight', 'vocab_transform.bias', 'vocab_projector.weight', 'vocab_layer_norm.bias', 'vocab_projector.bias', 'vocab_layer_norm.weight']\n",
      "- This IS expected if you are initializing DistilBertForTokenClassification from the checkpoint of a model trained on another task or with another architecture (e.g. initializing a BertForSequenceClassification model from a BertForPreTraining model).\n",
      "- This IS NOT expected if you are initializing DistilBertForTokenClassification from the checkpoint of a model that you expect to be exactly identical (initializing a BertForSequenceClassification model from a BertForSequenceClassification model).\n",
      "Some weights of DistilBertForTokenClassification were not initialized from the model checkpoint at distilbert-base-cased and are newly initialized: ['classifier.weight', 'classifier.bias']\n",
      "You should probably TRAIN this model on a down-stream task to be able to use it for predictions and inference.\n"
     ]
    }
   ],
   "source": [
    "model = AutoModelForTokenClassification.from_pretrained(\n",
    "    model_name,\n",
    "    num_labels=len(label2idx),\n",
    ").to(device)"
   ]
  },
  {
   "cell_type": "code",
   "execution_count": 209,
   "metadata": {
    "execution": {
     "iopub.execute_input": "2022-11-21T12:00:07.410139Z",
     "iopub.status.busy": "2022-11-21T12:00:07.409123Z",
     "iopub.status.idle": "2022-11-21T12:00:07.416315Z",
     "shell.execute_reply": "2022-11-21T12:00:07.415131Z",
     "shell.execute_reply.started": "2022-11-21T12:00:07.410090Z"
    },
    "id": "Imv-6gAQQEMG"
   },
   "outputs": [],
   "source": [
    "optimizer = torch.optim.Adam(model.parameters(), lr=1e-5)"
   ]
  },
  {
   "cell_type": "code",
   "execution_count": 210,
   "metadata": {
    "execution": {
     "iopub.execute_input": "2022-11-21T12:00:10.555088Z",
     "iopub.status.busy": "2022-11-21T12:00:10.554718Z",
     "iopub.status.idle": "2022-11-21T12:00:10.568970Z",
     "shell.execute_reply": "2022-11-21T12:00:10.568047Z",
     "shell.execute_reply.started": "2022-11-21T12:00:10.555058Z"
    },
    "id": "LAdHfn4oQEMG"
   },
   "outputs": [],
   "source": [
    "outputs = model(**tokens)"
   ]
  },
  {
   "cell_type": "code",
   "execution_count": 211,
   "metadata": {
    "colab": {
     "base_uri": "https://localhost:8080/"
    },
    "execution": {
     "iopub.execute_input": "2022-11-21T12:00:12.670734Z",
     "iopub.status.busy": "2022-11-21T12:00:12.670052Z",
     "iopub.status.idle": "2022-11-21T12:00:12.677863Z",
     "shell.execute_reply": "2022-11-21T12:00:12.676869Z",
     "shell.execute_reply.started": "2022-11-21T12:00:12.670696Z"
    },
    "id": "P-kTke_8QEMG",
    "outputId": "d3ccee80-a0c4-429a-8d62-787faf8543d2"
   },
   "outputs": [
    {
     "name": "stdout",
     "output_type": "stream",
     "text": [
      "Тесты пройдены!\n"
     ]
    }
   ],
   "source": [
    "assert 2 < criterion(outputs[\"logits\"].transpose(1, 2), labels) < 3\n",
    "\n",
    "print(\"Тесты пройдены!\")"
   ]
  },
  {
   "cell_type": "code",
   "execution_count": 212,
   "metadata": {
    "execution": {
     "iopub.execute_input": "2022-11-21T12:00:14.369936Z",
     "iopub.status.busy": "2022-11-21T12:00:14.369234Z",
     "iopub.status.idle": "2022-11-21T12:00:14.376379Z",
     "shell.execute_reply": "2022-11-21T12:00:14.375382Z",
     "shell.execute_reply.started": "2022-11-21T12:00:14.369900Z"
    },
    "id": "5Ana4qGKeHrN"
   },
   "outputs": [],
   "source": [
    "# создадим SummaryWriter для эксперимента с BiLSTMModel\n",
    "\n",
    "from torch.utils.tensorboard import SummaryWriter\n",
    "\n",
    "writer = SummaryWriter(log_dir=f\"logs/Transformer\")"
   ]
  },
  {
   "cell_type": "markdown",
   "metadata": {
    "id": "8sNuFPRdQEMH"
   },
   "source": [
    "### Эксперименты\n",
    "\n",
    "Проведите эксперименты на данных. Настраивайте параметры по валидационной выборке, не используя тестовую. Ваше цель — настроить сеть так, чтобы качество модели по F1-macro мере на валидационной и тестовой выборках было не меньше 0.9. \n",
    "\n",
    "Сделайте выводы о качестве модели, переобучении, чувствительности архитектуры к выбору гиперпараметров. Оформите результаты экспериментов в виде мини-отчета (в этом же ipython notebook)."
   ]
  },
  {
   "cell_type": "markdown",
   "metadata": {
    "id": "7IfkN20lrN0J"
   },
   "source": [
    "Вы можете использовать ту же самую функцию train, что и до этого за тем исключением, что вместо инференса `model(tokens)` нужно делать `model(**tokens)`, а вместо `outputs` использовать `outputs[\"logits\"].transpose(1, 2)`"
   ]
  },
  {
   "cell_type": "markdown",
   "metadata": {
    "id": "8iyZUFddzYE5"
   },
   "source": [
    "**Задание. Проведите эксперименты.** **<font color='red'>(2 балла)</font>**\n"
   ]
  },
  {
   "cell_type": "code",
   "execution_count": 220,
   "metadata": {
    "execution": {
     "iopub.execute_input": "2022-11-21T12:10:45.810584Z",
     "iopub.status.busy": "2022-11-21T12:10:45.810224Z",
     "iopub.status.idle": "2022-11-21T12:34:37.633249Z",
     "shell.execute_reply": "2022-11-21T12:34:37.632029Z",
     "shell.execute_reply.started": "2022-11-21T12:10:45.810554Z"
    },
    "id": "Iv92wK5P7pjl"
   },
   "outputs": [
    {
     "name": "stdout",
     "output_type": "stream",
     "text": [
      "Epoch [1 / 6]\n",
      "\n"
     ]
    },
    {
     "name": "stderr",
     "output_type": "stream",
     "text": [
      "loop over train batches: 100%|██████████| 4996/4996 [03:15<00:00, 25.55it/s]\n"
     ]
    },
    {
     "name": "stdout",
     "output_type": "stream",
     "text": [
      "Train loss: 0.06314308732788973\n",
      "\n",
      "Train accuracy: 0.986139557104195\n",
      "\n",
      "Train precision_micro: 0.986139557104195\n",
      "\n",
      "Train precision_macro: 0.9274091410898655\n",
      "\n",
      "Train precision_weighted: 0.9876025484206975\n",
      "\n",
      "Train recall_micro: 0.986139557104195\n",
      "\n",
      "Train recall_macro: 0.9276201237958361\n",
      "\n",
      "Train recall_weighted: 0.986139557104195\n",
      "\n",
      "Train f1_micro: 0.986139557104195\n",
      "\n",
      "Train f1_macro: 0.9235033390751706\n",
      "\n",
      "Train f1_weighted: 0.9857052354653252\n",
      "\n"
     ]
    },
    {
     "name": "stderr",
     "output_type": "stream",
     "text": [
      "loop over test batches: 100%|██████████| 3465/3465 [00:42<00:00, 81.90it/s]\n"
     ]
    },
    {
     "name": "stdout",
     "output_type": "stream",
     "text": [
      "Test loss:  0.0674596134039441\n",
      "\n",
      "Test accuracy: 0.9811609597385523\n",
      "\n",
      "Test precision_micro: 0.9811609597385523\n",
      "\n",
      "Test precision_macro: 0.9382919930215412\n",
      "\n",
      "Test precision_weighted: 0.9830056758045901\n",
      "\n",
      "Test recall_micro: 0.9811609597385523\n",
      "\n",
      "Test recall_macro: 0.9374948934815737\n",
      "\n",
      "Test recall_weighted: 0.9811609597385523\n",
      "\n",
      "Test f1_micro: 0.9811609597385523\n",
      "\n",
      "Test f1_macro: 0.9357916639641011\n",
      "\n",
      "Test f1_weighted: 0.9808208135341103\n",
      "\n",
      "Epoch [2 / 6]\n",
      "\n"
     ]
    },
    {
     "name": "stderr",
     "output_type": "stream",
     "text": [
      "loop over train batches: 100%|██████████| 4996/4996 [03:15<00:00, 25.53it/s]\n"
     ]
    },
    {
     "name": "stdout",
     "output_type": "stream",
     "text": [
      "Train loss: 0.033899322207799704\n",
      "\n",
      "Train accuracy: 0.9941988436109553\n",
      "\n",
      "Train precision_micro: 0.9941988436109553\n",
      "\n",
      "Train precision_macro: 0.968579661211792\n",
      "\n",
      "Train precision_weighted: 0.995262971557382\n",
      "\n",
      "Train recall_micro: 0.9941988436109553\n",
      "\n",
      "Train recall_macro: 0.9689512514482291\n",
      "\n",
      "Train recall_weighted: 0.9941988436109553\n",
      "\n",
      "Train f1_micro: 0.9941988436109553\n",
      "\n",
      "Train f1_macro: 0.9668694871088497\n",
      "\n",
      "Train f1_weighted: 0.9942344031200615\n",
      "\n"
     ]
    },
    {
     "name": "stderr",
     "output_type": "stream",
     "text": [
      "loop over test batches: 100%|██████████| 3465/3465 [00:41<00:00, 82.88it/s]\n"
     ]
    },
    {
     "name": "stdout",
     "output_type": "stream",
     "text": [
      "Test loss:  0.06226271028795651\n",
      "\n",
      "Test accuracy: 0.9831643245024209\n",
      "\n",
      "Test precision_micro: 0.9831643245024209\n",
      "\n",
      "Test precision_macro: 0.944561963556755\n",
      "\n",
      "Test precision_weighted: 0.9861662846623079\n",
      "\n",
      "Test recall_micro: 0.9831643245024209\n",
      "\n",
      "Test recall_macro: 0.9446311782571122\n",
      "\n",
      "Test recall_weighted: 0.9831643245024209\n",
      "\n",
      "Test f1_micro: 0.9831643245024209\n",
      "\n",
      "Test f1_macro: 0.9427908645917139\n",
      "\n",
      "Test f1_weighted: 0.9836185543491065\n",
      "\n",
      "Epoch [3 / 6]\n",
      "\n"
     ]
    },
    {
     "name": "stderr",
     "output_type": "stream",
     "text": [
      "loop over train batches: 100%|██████████| 4996/4996 [03:17<00:00, 25.35it/s]\n"
     ]
    },
    {
     "name": "stdout",
     "output_type": "stream",
     "text": [
      "Train loss: 0.01886234443261257\n",
      "\n",
      "Train accuracy: 0.9971980994917069\n",
      "\n",
      "Train precision_micro: 0.9971980994917069\n",
      "\n",
      "Train precision_macro: 0.9842765601865776\n",
      "\n",
      "Train precision_weighted: 0.9977020616539515\n",
      "\n",
      "Train recall_micro: 0.9971980994917069\n",
      "\n",
      "Train recall_macro: 0.9845777930221891\n",
      "\n",
      "Train recall_weighted: 0.9971980994917069\n",
      "\n",
      "Train f1_micro: 0.9971980994917069\n",
      "\n",
      "Train f1_macro: 0.98351726606948\n",
      "\n",
      "Train f1_weighted: 0.9972311384687446\n",
      "\n"
     ]
    },
    {
     "name": "stderr",
     "output_type": "stream",
     "text": [
      "loop over test batches: 100%|██████████| 3465/3465 [00:42<00:00, 81.43it/s]\n"
     ]
    },
    {
     "name": "stdout",
     "output_type": "stream",
     "text": [
      "Test loss:  0.07252323124989567\n",
      "\n",
      "Test accuracy: 0.984282972888635\n",
      "\n",
      "Test precision_micro: 0.984282972888635\n",
      "\n",
      "Test precision_macro: 0.9467007527501593\n",
      "\n",
      "Test precision_weighted: 0.9843044768183661\n",
      "\n",
      "Test recall_micro: 0.984282972888635\n",
      "\n",
      "Test recall_macro: 0.9458675727312329\n",
      "\n",
      "Test recall_weighted: 0.984282972888635\n",
      "\n",
      "Test f1_micro: 0.984282972888635\n",
      "\n",
      "Test f1_macro: 0.944291427546232\n",
      "\n",
      "Test f1_weighted: 0.983126613213267\n",
      "\n",
      "Epoch [4 / 6]\n",
      "\n"
     ]
    },
    {
     "name": "stderr",
     "output_type": "stream",
     "text": [
      "loop over train batches: 100%|██████████| 4996/4996 [03:16<00:00, 25.38it/s]\n"
     ]
    },
    {
     "name": "stdout",
     "output_type": "stream",
     "text": [
      "Train loss: 0.014323114724250104\n",
      "\n",
      "Train accuracy: 0.9982544983338881\n",
      "\n",
      "Train precision_micro: 0.9982544983338881\n",
      "\n",
      "Train precision_macro: 0.9909202283471386\n",
      "\n",
      "Train precision_weighted: 0.9987576135376486\n",
      "\n",
      "Train recall_micro: 0.9982544983338881\n",
      "\n",
      "Train recall_macro: 0.9908282659951388\n",
      "\n",
      "Train recall_weighted: 0.9982544983338881\n",
      "\n",
      "Train f1_micro: 0.9982544983338881\n",
      "\n",
      "Train f1_macro: 0.9903048946574394\n",
      "\n",
      "Train f1_weighted: 0.9983497373599293\n",
      "\n"
     ]
    },
    {
     "name": "stderr",
     "output_type": "stream",
     "text": [
      "loop over test batches: 100%|██████████| 3465/3465 [00:41<00:00, 82.91it/s]\n"
     ]
    },
    {
     "name": "stdout",
     "output_type": "stream",
     "text": [
      "Test loss:  0.07055581676943332\n",
      "\n",
      "Test accuracy: 0.9851393848275275\n",
      "\n",
      "Test precision_micro: 0.9851393848275275\n",
      "\n",
      "Test precision_macro: 0.9500194423549281\n",
      "\n",
      "Test precision_weighted: 0.9874925581488132\n",
      "\n",
      "Test recall_micro: 0.9851393848275275\n",
      "\n",
      "Test recall_macro: 0.9489278666646732\n",
      "\n",
      "Test recall_weighted: 0.9851393848275275\n",
      "\n",
      "Test f1_micro: 0.9851393848275274\n",
      "\n",
      "Test f1_macro: 0.9476189018714924\n",
      "\n",
      "Test f1_weighted: 0.9852345515492327\n",
      "\n",
      "Epoch [5 / 6]\n",
      "\n"
     ]
    },
    {
     "name": "stderr",
     "output_type": "stream",
     "text": [
      "loop over train batches: 100%|██████████| 4996/4996 [03:16<00:00, 25.43it/s]\n"
     ]
    },
    {
     "name": "stdout",
     "output_type": "stream",
     "text": [
      "Train loss: 0.010296900776879364\n",
      "\n",
      "Train accuracy: 0.9987398601935578\n",
      "\n",
      "Train precision_micro: 0.9987398601935578\n",
      "\n",
      "Train precision_macro: 0.9938263561065556\n",
      "\n",
      "Train precision_weighted: 0.9990631129188007\n",
      "\n",
      "Train recall_micro: 0.9987398601935578\n",
      "\n",
      "Train recall_macro: 0.9937953870311941\n",
      "\n",
      "Train recall_weighted: 0.9987398601935578\n",
      "\n",
      "Train f1_micro: 0.9987398601935578\n",
      "\n",
      "Train f1_macro: 0.9933213461706896\n",
      "\n",
      "Train f1_weighted: 0.99877330706634\n",
      "\n"
     ]
    },
    {
     "name": "stderr",
     "output_type": "stream",
     "text": [
      "loop over test batches: 100%|██████████| 3465/3465 [00:42<00:00, 81.17it/s]\n"
     ]
    },
    {
     "name": "stdout",
     "output_type": "stream",
     "text": [
      "Test loss:  0.07618809116466327\n",
      "\n",
      "Test accuracy: 0.984363374332214\n",
      "\n",
      "Test precision_micro: 0.984363374332214\n",
      "\n",
      "Test precision_macro: 0.9488513083660233\n",
      "\n",
      "Test precision_weighted: 0.9854168038639448\n",
      "\n",
      "Test recall_micro: 0.984363374332214\n",
      "\n",
      "Test recall_macro: 0.9481570909848624\n",
      "\n",
      "Test recall_weighted: 0.984363374332214\n",
      "\n",
      "Test f1_micro: 0.984363374332214\n",
      "\n",
      "Test f1_macro: 0.9464744709108158\n",
      "\n",
      "Test f1_weighted: 0.9837425906599918\n",
      "\n",
      "Epoch [6 / 6]\n",
      "\n"
     ]
    },
    {
     "name": "stderr",
     "output_type": "stream",
     "text": [
      "loop over train batches: 100%|██████████| 4996/4996 [03:16<00:00, 25.45it/s]\n"
     ]
    },
    {
     "name": "stdout",
     "output_type": "stream",
     "text": [
      "Train loss: 0.0070203265331099385\n",
      "\n",
      "Train accuracy: 0.9992831669778823\n",
      "\n",
      "Train precision_micro: 0.9992831669778823\n",
      "\n",
      "Train precision_macro: 0.9961669249406331\n",
      "\n",
      "Train precision_weighted: 0.9993992553843901\n",
      "\n",
      "Train recall_micro: 0.9992831669778823\n",
      "\n",
      "Train recall_macro: 0.996252745972092\n",
      "\n",
      "Train recall_weighted: 0.9992831669778823\n",
      "\n",
      "Train f1_micro: 0.9992831669778823\n",
      "\n",
      "Train f1_macro: 0.9959370138318191\n",
      "\n",
      "Train f1_weighted: 0.999268927370096\n",
      "\n"
     ]
    },
    {
     "name": "stderr",
     "output_type": "stream",
     "text": [
      "loop over test batches: 100%|██████████| 3465/3465 [00:42<00:00, 81.40it/s]"
     ]
    },
    {
     "name": "stdout",
     "output_type": "stream",
     "text": [
      "Test loss:  0.07888586102035465\n",
      "\n",
      "Test accuracy: 0.9850374372071325\n",
      "\n",
      "Test precision_micro: 0.9850374372071325\n",
      "\n",
      "Test precision_macro: 0.9511688464088263\n",
      "\n",
      "Test precision_weighted: 0.9851847560656647\n",
      "\n",
      "Test recall_micro: 0.9850374372071325\n",
      "\n",
      "Test recall_macro: 0.9507873480926976\n",
      "\n",
      "Test recall_weighted: 0.9850374372071325\n",
      "\n",
      "Test f1_micro: 0.9850374372071325\n",
      "\n",
      "Test f1_macro: 0.948961963853972\n",
      "\n",
      "Test f1_weighted: 0.9840195847407393\n",
      "\n"
     ]
    },
    {
     "name": "stderr",
     "output_type": "stream",
     "text": [
      "\n"
     ]
    }
   ],
   "source": [
    "# YOUR CODE HERE\n",
    "train(\n",
    "    n_epochs=6,\n",
    "    model=model,\n",
    "    train_dataloader=train_dataloader,\n",
    "    test_dataloader=valid_dataloader,\n",
    "    optimizer=optimizer,\n",
    "    criterion=criterion,\n",
    "    writer=writer,\n",
    "    device=device\n",
    ")"
   ]
  },
  {
   "cell_type": "code",
   "execution_count": 221,
   "metadata": {
    "execution": {
     "iopub.execute_input": "2022-11-21T12:36:43.625630Z",
     "iopub.status.busy": "2022-11-21T12:36:43.625035Z",
     "iopub.status.idle": "2022-11-21T12:37:28.776561Z",
     "shell.execute_reply": "2022-11-21T12:37:28.775668Z",
     "shell.execute_reply.started": "2022-11-21T12:36:43.625594Z"
    }
   },
   "outputs": [
    {
     "name": "stderr",
     "output_type": "stream",
     "text": [
      "loop over test batches: 100%|██████████| 3683/3683 [00:45<00:00, 81.61it/s]"
     ]
    },
    {
     "name": "stdout",
     "output_type": "stream",
     "text": [
      "Test loss:  0.21142420605916343\n",
      "\n",
      "Test accuracy: 0.9666316658529059\n",
      "\n",
      "Test precision_micro: 0.9666316658529059\n",
      "\n",
      "Test precision_macro: 0.9199601124381407\n",
      "\n",
      "Test precision_weighted: 0.9686179997702951\n",
      "\n",
      "Test recall_micro: 0.9666316658529059\n",
      "\n",
      "Test recall_macro: 0.9197848094264365\n",
      "\n",
      "Test recall_weighted: 0.9666316658529059\n",
      "\n",
      "Test f1_micro: 0.9666316658529059\n",
      "\n",
      "Test f1_macro: 0.917871090064343\n",
      "\n",
      "Test f1_weighted: 0.9663316477805384\n",
      "\n"
     ]
    },
    {
     "name": "stderr",
     "output_type": "stream",
     "text": [
      "\n"
     ]
    }
   ],
   "source": [
    "evaluate_epoch(\n",
    "    model=model,\n",
    "    dataloader=test_dataloader,\n",
    "    criterion=criterion,\n",
    "    writer=writer,\n",
    "    device=device,\n",
    "    epoch=6\n",
    ")"
   ]
  },
  {
   "cell_type": "markdown",
   "metadata": {},
   "source": [
    "**Отчет**\n",
    "\n",
    "Данная сеть показывает значительно лучшие результаты в сравнении с рекуррентной. Аналогично ей оптимальным числом эпох является 5-7, это помогает избежать переобучения. Зависимость от гиперпараметров в трансформере менее выражена чем в рекуррентной.\n",
    "\n",
    "**Результат**\n",
    "\n",
    "Валидация - Test f1_macro: 0.948961963853972\n",
    "\n",
    "Тест - Test f1_macro: 0.917871090064343"
   ]
  },
  {
   "cell_type": "markdown",
   "metadata": {
    "id": "5XlI3cb1QEL2"
   },
   "source": [
    "## Часть 4 - Бонус. BiLSTMAttention-теггер (2 баллa)\n",
    "\n",
    "Необходимо провести те же самые эксперименты как и в части 2, но уже с использованием усовершенствованной архитектуры теггера BiLSTM с Attention механизмом.\n",
    "\n",
    "**Обратите внимание**, что реализовывать Attention самому не нужно, можно использовать `torch.nn.MultiheadAttention`.\n",
    "\n",
    "Также сделайте выводы о качестве модели, переобучении, чувствительности архитектуры к выбору гиперпараметров и проведите небольшой сравнительный анализ с предыдущей архитектурой. Оформите результаты экспериментов в виде мини-отчета (в этом же ipython notebook).\n",
    "\n",
    "**Задание. Реализуйте класс модели BiLSTMAttn.** **<font color='red'>(1 балл)</font>**"
   ]
  },
  {
   "cell_type": "code",
   "execution_count": null,
   "metadata": {
    "execution": {
     "iopub.status.busy": "2022-11-21T11:00:16.038767Z",
     "iopub.status.idle": "2022-11-21T11:00:16.039947Z",
     "shell.execute_reply": "2022-11-21T11:00:16.039726Z",
     "shell.execute_reply.started": "2022-11-21T11:00:16.039700Z"
    },
    "id": "_MyLQp047yID"
   },
   "outputs": [],
   "source": [
    "# YOUR CODE HERE"
   ]
  },
  {
   "cell_type": "markdown",
   "metadata": {
    "id": "ezh9kLTkQEL9"
   },
   "source": [
    "**Задание. Проведите эксперименты и побейте метрику из части 2.** **<font color='red'>(1 балл)</font>**\n",
    "\n",
    "P.S. Eсли качества увеличить не получилось, это нужно обосновать"
   ]
  },
  {
   "cell_type": "code",
   "execution_count": null,
   "metadata": {
    "execution": {
     "iopub.status.busy": "2022-11-21T11:00:16.040850Z",
     "iopub.status.idle": "2022-11-21T11:00:16.042331Z",
     "shell.execute_reply": "2022-11-21T11:00:16.042085Z",
     "shell.execute_reply.started": "2022-11-21T11:00:16.042059Z"
    },
    "id": "sE1C1tzEQEL-"
   },
   "outputs": [],
   "source": [
    "# YOUR CODE HERE"
   ]
  }
 ],
 "metadata": {
  "accelerator": "GPU",
  "colab": {
   "collapsed_sections": [
    "4MIrbmNoQEMA"
   ],
   "provenance": []
  },
  "gpuClass": "standard",
  "kernelspec": {
   "display_name": "Python 3 (ipykernel)",
   "language": "python",
   "name": "python3"
  },
  "language_info": {
   "codemirror_mode": {
    "name": "ipython",
    "version": 3
   },
   "file_extension": ".py",
   "mimetype": "text/x-python",
   "name": "python",
   "nbconvert_exporter": "python",
   "pygments_lexer": "ipython3",
   "version": "3.10.4"
  },
  "vscode": {
   "interpreter": {
    "hash": "8d4ce941904148077feb793883e611d25d231ca995d9164b22ee99fd0facd8d1"
   }
  }
 },
 "nbformat": 4,
 "nbformat_minor": 4
}
